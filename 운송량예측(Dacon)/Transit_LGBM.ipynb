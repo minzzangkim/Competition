{
 "cells": [
  {
   "cell_type": "code",
   "execution_count": 221,
   "metadata": {},
   "outputs": [],
   "source": [
    "import pandas as pd\n",
    "import numpy as np\n",
    "import matplotlib.pyplot as plt\n",
    "from sklearn.metrics import mean_squared_error as mse\n",
    "from sklearn.model_selection import train_test_split\n",
    "import lightgbm\n",
    "from lightgbm import LGBMRegressor\n",
    "import seaborn as sns"
   ]
  },
  {
   "cell_type": "code",
   "execution_count": 375,
   "metadata": {},
   "outputs": [],
   "source": [
    "train = pd.read_csv('C:/Users/doong/Desktop/PythonWorkspace/운송량예측공모전/train(전처리 끝).csv', encoding='utf-8')\n",
    "test = pd.read_csv('C:/Users/doong/Desktop/PythonWorkspace/운송량예측공모전/test(전처리 끝).csv', encoding='utf-8')\n",
    "ss = pd.read_csv('C:/Users/doong/Desktop/공모전/운송량 예측/235867_물류 유통량 예측 경진대회/sample_submission.csv', encoding='utf-8')"
   ]
  },
  {
   "cell_type": "code",
   "execution_count": 376,
   "metadata": {},
   "outputs": [],
   "source": [
    "train.drop([\"Unnamed: 0\"], axis=1, inplace=True)\n",
    "test.drop([\"Unnamed: 0\",'index'], axis=1, inplace=True)"
   ]
  },
  {
   "cell_type": "code",
   "execution_count": 377,
   "metadata": {},
   "outputs": [],
   "source": [
    "train.drop(\"index\", axis=1, inplace=True)"
   ]
  },
  {
   "cell_type": "code",
   "execution_count": 378,
   "metadata": {},
   "outputs": [
    {
     "data": {
      "text/plain": [
       "Index(['SEND_SPG_INNB', 'REC_SPG_INNB', 'INVC_CONT', 'DL_GD_LCLS_NM_0',\n",
       "       'DL_GD_LCLS_NM_1', 'DL_GD_LCLS_NM_2', 'DL_GD_LCLS_NM_3',\n",
       "       'DL_GD_LCLS_NM_4', 'DL_GD_LCLS_NM_5', 'DL_GD_MCLS_NM_0',\n",
       "       'DL_GD_MCLS_NM_1', 'DL_GD_MCLS_NM_2', 'DL_GD_MCLS_NM_3',\n",
       "       'DL_GD_MCLS_NM_4', 'DL_GD_MCLS_NM_5', 'DL_GD_MCLS_NM_6',\n",
       "       'DL_GD_MCLS_NM_7', 'DL_GD_MCLS_NM_8', 'DL_GD_MCLS_NM_9',\n",
       "       'DL_GD_MCLS_NM_10', 'DL_GD_MCLS_NM_11', 'DL_GD_MCLS_NM_12',\n",
       "       'DL_GD_MCLS_NM_13', 'DL_GD_MCLS_NM_14', 'DL_GD_MCLS_NM_15',\n",
       "       'DL_GD_MCLS_NM_16', 'DL_GD_MCLS_NM_17', 'DL_GD_MCLS_NM_18',\n",
       "       'DL_GD_MCLS_NM_19'],\n",
       "      dtype='object')"
      ]
     },
     "execution_count": 378,
     "metadata": {},
     "output_type": "execute_result"
    }
   ],
   "source": [
    "train.columns"
   ]
  },
  {
   "cell_type": "code",
   "execution_count": 288,
   "metadata": {},
   "outputs": [],
   "source": [
    "# # 대 + 중\n",
    "# X = train.drop(['SEND_SPG_INNB', 'REC_SPG_INNB', 'INVC_CONT'], axis=1)\n",
    "# # X = train.drop(\"INVC_CONT\", axis=1)\n",
    "\n",
    "# y = train[\"INVC_CONT\"]"
   ]
  },
  {
   "cell_type": "code",
   "execution_count": 379,
   "metadata": {},
   "outputs": [],
   "source": [
    "# 중\n",
    "X = train.iloc[:,9:]\n",
    "y = train[\"INVC_CONT\"]"
   ]
  },
  {
   "cell_type": "code",
   "execution_count": 380,
   "metadata": {},
   "outputs": [],
   "source": [
    "X_train, X_val, y_train, y_val = train_test_split(X, y ,test_size=0.2)"
   ]
  },
  {
   "cell_type": "code",
   "execution_count": 381,
   "metadata": {},
   "outputs": [
    {
     "name": "stderr",
     "output_type": "stream",
     "text": [
      "C:\\Users\\doong\\anaconda3\\lib\\site-packages\\seaborn\\distributions.py:2557: FutureWarning: `distplot` is a deprecated function and will be removed in a future version. Please adapt your code to use either `displot` (a figure-level function with similar flexibility) or `histplot` (an axes-level function for histograms).\n",
      "  warnings.warn(msg, FutureWarning)\n"
     ]
    },
    {
     "data": {
      "text/plain": [
       "<AxesSubplot:xlabel='INVC_CONT', ylabel='Density'>"
      ]
     },
     "execution_count": 381,
     "metadata": {},
     "output_type": "execute_result"
    },
    {
     "data": {
      "image/png": "[encoded data removed]",
      "text/plain": [
       "<Figure size 432x288 with 1 Axes>"
      ]
     },
     "metadata": {
      "needs_background": "light"
     },
     "output_type": "display_data"
    }
   ],
   "source": [
    "sns.distplot(y_train)"
   ]
  },
  {
   "cell_type": "code",
   "execution_count": 382,
   "metadata": {},
   "outputs": [
    {
     "name": "stderr",
     "output_type": "stream",
     "text": [
      "C:\\Users\\doong\\anaconda3\\lib\\site-packages\\seaborn\\distributions.py:2557: FutureWarning: `distplot` is a deprecated function and will be removed in a future version. Please adapt your code to use either `displot` (a figure-level function with similar flexibility) or `histplot` (an axes-level function for histograms).\n",
      "  warnings.warn(msg, FutureWarning)\n"
     ]
    },
    {
     "data": {
      "text/plain": [
       "<AxesSubplot:xlabel='INVC_CONT', ylabel='Density'>"
      ]
     },
     "execution_count": 382,
     "metadata": {},
     "output_type": "execute_result"
    },
    {
     "data": {
      "image/png": "[encoded data removed]",
      "text/plain": [
       "<Figure size 432x288 with 1 Axes>"
      ]
     },
     "metadata": {
      "needs_background": "light"
     },
     "output_type": "display_data"
    }
   ],
   "source": [
    "# 로그 변환\n",
    "y_train_log = np.log1p(y_train)\n",
    "sns.distplot(y_train_log)"
   ]
  },
  {
   "cell_type": "code",
   "execution_count": 384,
   "metadata": {},
   "outputs": [
    {
     "name": "stderr",
     "output_type": "stream",
     "text": [
      "C:\\Users\\doong\\anaconda3\\lib\\site-packages\\lightgbm\\sklearn.py:726: UserWarning: 'early_stopping_rounds' argument is deprecated and will be removed in a future release of LightGBM. Pass 'early_stopping()' callback via 'callbacks' argument instead.\n",
      "  _log_warning(\"'early_stopping_rounds' argument is deprecated and will be removed in a future release of LightGBM. \"\n"
     ]
    },
    {
     "name": "stdout",
     "output_type": "stream",
     "text": [
      "[1]\tvalid_0's rmse: 3.17325\tvalid_0's l2: 10.0695\tvalid_1's rmse: 5.357\tvalid_1's l2: 28.6975\n",
      "[2]\tvalid_0's rmse: 3.1748\tvalid_0's l2: 10.0794\tvalid_1's rmse: 5.34732\tvalid_1's l2: 28.5939\n",
      "[3]\tvalid_0's rmse: 3.17718\tvalid_0's l2: 10.0945\tvalid_1's rmse: 5.33803\tvalid_1's l2: 28.4946\n",
      "[4]\tvalid_0's rmse: 3.1807\tvalid_0's l2: 10.1168\tvalid_1's rmse: 5.33108\tvalid_1's l2: 28.4204\n",
      "[5]\tvalid_0's rmse: 3.18527\tvalid_0's l2: 10.146\tvalid_1's rmse: 5.32572\tvalid_1's l2: 28.3633\n",
      "[6]\tvalid_0's rmse: 3.19046\tvalid_0's l2: 10.179\tvalid_1's rmse: 5.31888\tvalid_1's l2: 28.2905\n",
      "[7]\tvalid_0's rmse: 3.19481\tvalid_0's l2: 10.2068\tvalid_1's rmse: 5.31514\tvalid_1's l2: 28.2507\n",
      "[8]\tvalid_0's rmse: 3.19918\tvalid_0's l2: 10.2347\tvalid_1's rmse: 5.31337\tvalid_1's l2: 28.2319\n",
      "[9]\tvalid_0's rmse: 3.20446\tvalid_0's l2: 10.2685\tvalid_1's rmse: 5.30942\tvalid_1's l2: 28.1899\n",
      "[10]\tvalid_0's rmse: 3.21023\tvalid_0's l2: 10.3056\tvalid_1's rmse: 5.30771\tvalid_1's l2: 28.1717\n",
      "[11]\tvalid_0's rmse: 3.21547\tvalid_0's l2: 10.3392\tvalid_1's rmse: 5.30489\tvalid_1's l2: 28.1419\n",
      "[12]\tvalid_0's rmse: 3.22006\tvalid_0's l2: 10.3688\tvalid_1's rmse: 5.30441\tvalid_1's l2: 28.1368\n",
      "[13]\tvalid_0's rmse: 3.22429\tvalid_0's l2: 10.396\tvalid_1's rmse: 5.30296\tvalid_1's l2: 28.1214\n",
      "[14]\tvalid_0's rmse: 3.22946\tvalid_0's l2: 10.4294\tvalid_1's rmse: 5.30041\tvalid_1's l2: 28.0944\n",
      "[15]\tvalid_0's rmse: 3.2335\tvalid_0's l2: 10.4555\tvalid_1's rmse: 5.29949\tvalid_1's l2: 28.0846\n",
      "[16]\tvalid_0's rmse: 3.23791\tvalid_0's l2: 10.4841\tvalid_1's rmse: 5.29798\tvalid_1's l2: 28.0686\n",
      "[17]\tvalid_0's rmse: 3.24174\tvalid_0's l2: 10.5089\tvalid_1's rmse: 5.29731\tvalid_1's l2: 28.0615\n",
      "[18]\tvalid_0's rmse: 3.24489\tvalid_0's l2: 10.5293\tvalid_1's rmse: 5.29711\tvalid_1's l2: 28.0593\n",
      "[19]\tvalid_0's rmse: 3.24893\tvalid_0's l2: 10.5555\tvalid_1's rmse: 5.2956\tvalid_1's l2: 28.0433\n",
      "[20]\tvalid_0's rmse: 3.25164\tvalid_0's l2: 10.5732\tvalid_1's rmse: 5.29576\tvalid_1's l2: 28.045\n",
      "[21]\tvalid_0's rmse: 3.25534\tvalid_0's l2: 10.5972\tvalid_1's rmse: 5.29611\tvalid_1's l2: 28.0487\n",
      "[22]\tvalid_0's rmse: 3.25826\tvalid_0's l2: 10.6163\tvalid_1's rmse: 5.29522\tvalid_1's l2: 28.0393\n",
      "[23]\tvalid_0's rmse: 3.26083\tvalid_0's l2: 10.633\tvalid_1's rmse: 5.29401\tvalid_1's l2: 28.0265\n",
      "[24]\tvalid_0's rmse: 3.26342\tvalid_0's l2: 10.6499\tvalid_1's rmse: 5.29416\tvalid_1's l2: 28.0281\n",
      "[25]\tvalid_0's rmse: 3.26569\tvalid_0's l2: 10.6647\tvalid_1's rmse: 5.29283\tvalid_1's l2: 28.0141\n",
      "[26]\tvalid_0's rmse: 3.26787\tvalid_0's l2: 10.6789\tvalid_1's rmse: 5.29221\tvalid_1's l2: 28.0075\n",
      "[27]\tvalid_0's rmse: 3.26975\tvalid_0's l2: 10.6913\tvalid_1's rmse: 5.2921\tvalid_1's l2: 28.0064\n",
      "[28]\tvalid_0's rmse: 3.27186\tvalid_0's l2: 10.705\tvalid_1's rmse: 5.29192\tvalid_1's l2: 28.0045\n",
      "[29]\tvalid_0's rmse: 3.27393\tvalid_0's l2: 10.7186\tvalid_1's rmse: 5.29128\tvalid_1's l2: 27.9976\n",
      "[30]\tvalid_0's rmse: 3.27563\tvalid_0's l2: 10.7298\tvalid_1's rmse: 5.29132\tvalid_1's l2: 27.9981\n",
      "[31]\tvalid_0's rmse: 3.27721\tvalid_0's l2: 10.7401\tvalid_1's rmse: 5.29121\tvalid_1's l2: 27.997\n",
      "[32]\tvalid_0's rmse: 3.27855\tvalid_0's l2: 10.7489\tvalid_1's rmse: 5.29127\tvalid_1's l2: 27.9975\n",
      "[33]\tvalid_0's rmse: 3.27857\tvalid_0's l2: 10.749\tvalid_1's rmse: 5.291\tvalid_1's l2: 27.9947\n",
      "[34]\tvalid_0's rmse: 3.28048\tvalid_0's l2: 10.7615\tvalid_1's rmse: 5.29124\tvalid_1's l2: 27.9972\n",
      "[35]\tvalid_0's rmse: 3.28222\tvalid_0's l2: 10.773\tvalid_1's rmse: 5.29069\tvalid_1's l2: 27.9914\n",
      "[36]\tvalid_0's rmse: 3.28367\tvalid_0's l2: 10.7825\tvalid_1's rmse: 5.29083\tvalid_1's l2: 27.9929\n",
      "[37]\tvalid_0's rmse: 3.28489\tvalid_0's l2: 10.7905\tvalid_1's rmse: 5.29072\tvalid_1's l2: 27.9917\n",
      "[38]\tvalid_0's rmse: 3.2861\tvalid_0's l2: 10.7985\tvalid_1's rmse: 5.29086\tvalid_1's l2: 27.9932\n",
      "[39]\tvalid_0's rmse: 3.28729\tvalid_0's l2: 10.8062\tvalid_1's rmse: 5.2908\tvalid_1's l2: 27.9926\n",
      "[40]\tvalid_0's rmse: 3.28821\tvalid_0's l2: 10.8124\tvalid_1's rmse: 5.29087\tvalid_1's l2: 27.9933\n",
      "[41]\tvalid_0's rmse: 3.28938\tvalid_0's l2: 10.82\tvalid_1's rmse: 5.29085\tvalid_1's l2: 27.9931\n",
      "[42]\tvalid_0's rmse: 3.29018\tvalid_0's l2: 10.8253\tvalid_1's rmse: 5.29034\tvalid_1's l2: 27.9877\n",
      "[43]\tvalid_0's rmse: 3.29034\tvalid_0's l2: 10.8263\tvalid_1's rmse: 5.29021\tvalid_1's l2: 27.9863\n",
      "[44]\tvalid_0's rmse: 3.29115\tvalid_0's l2: 10.8317\tvalid_1's rmse: 5.29035\tvalid_1's l2: 27.9878\n",
      "[45]\tvalid_0's rmse: 3.29239\tvalid_0's l2: 10.8398\tvalid_1's rmse: 5.29032\tvalid_1's l2: 27.9875\n",
      "[46]\tvalid_0's rmse: 3.29256\tvalid_0's l2: 10.841\tvalid_1's rmse: 5.28983\tvalid_1's l2: 27.9823\n",
      "[47]\tvalid_0's rmse: 3.29297\tvalid_0's l2: 10.8436\tvalid_1's rmse: 5.2899\tvalid_1's l2: 27.983\n",
      "[48]\tvalid_0's rmse: 3.29351\tvalid_0's l2: 10.8472\tvalid_1's rmse: 5.28995\tvalid_1's l2: 27.9836\n",
      "[49]\tvalid_0's rmse: 3.29391\tvalid_0's l2: 10.8499\tvalid_1's rmse: 5.28963\tvalid_1's l2: 27.9802\n",
      "[50]\tvalid_0's rmse: 3.29393\tvalid_0's l2: 10.85\tvalid_1's rmse: 5.28952\tvalid_1's l2: 27.979\n",
      "[51]\tvalid_0's rmse: 3.29471\tvalid_0's l2: 10.8551\tvalid_1's rmse: 5.28948\tvalid_1's l2: 27.9786\n",
      "[52]\tvalid_0's rmse: 3.29606\tvalid_0's l2: 10.864\tvalid_1's rmse: 5.28945\tvalid_1's l2: 27.9783\n",
      "[53]\tvalid_0's rmse: 3.29678\tvalid_0's l2: 10.8688\tvalid_1's rmse: 5.28956\tvalid_1's l2: 27.9795\n",
      "[54]\tvalid_0's rmse: 3.29763\tvalid_0's l2: 10.8744\tvalid_1's rmse: 5.28958\tvalid_1's l2: 27.9797\n",
      "[55]\tvalid_0's rmse: 3.29845\tvalid_0's l2: 10.8798\tvalid_1's rmse: 5.28971\tvalid_1's l2: 27.981\n",
      "[56]\tvalid_0's rmse: 3.29906\tvalid_0's l2: 10.8838\tvalid_1's rmse: 5.2897\tvalid_1's l2: 27.9809\n",
      "[57]\tvalid_0's rmse: 3.29996\tvalid_0's l2: 10.8897\tvalid_1's rmse: 5.28972\tvalid_1's l2: 27.9811\n",
      "[58]\tvalid_0's rmse: 3.29989\tvalid_0's l2: 10.8893\tvalid_1's rmse: 5.28973\tvalid_1's l2: 27.9813\n",
      "[59]\tvalid_0's rmse: 3.30091\tvalid_0's l2: 10.896\tvalid_1's rmse: 5.28991\tvalid_1's l2: 27.9832\n",
      "[60]\tvalid_0's rmse: 3.30158\tvalid_0's l2: 10.9004\tvalid_1's rmse: 5.29003\tvalid_1's l2: 27.9844\n",
      "[61]\tvalid_0's rmse: 3.3022\tvalid_0's l2: 10.9045\tvalid_1's rmse: 5.29003\tvalid_1's l2: 27.9845\n",
      "[62]\tvalid_0's rmse: 3.30247\tvalid_0's l2: 10.9063\tvalid_1's rmse: 5.28969\tvalid_1's l2: 27.9809\n",
      "[63]\tvalid_0's rmse: 3.30333\tvalid_0's l2: 10.912\tvalid_1's rmse: 5.28977\tvalid_1's l2: 27.9817\n",
      "[64]\tvalid_0's rmse: 3.30385\tvalid_0's l2: 10.9154\tvalid_1's rmse: 5.28987\tvalid_1's l2: 27.9827\n",
      "[65]\tvalid_0's rmse: 3.30393\tvalid_0's l2: 10.916\tvalid_1's rmse: 5.28983\tvalid_1's l2: 27.9823\n",
      "[66]\tvalid_0's rmse: 3.3047\tvalid_0's l2: 10.921\tvalid_1's rmse: 5.28975\tvalid_1's l2: 27.9814\n",
      "[67]\tvalid_0's rmse: 3.30467\tvalid_0's l2: 10.9208\tvalid_1's rmse: 5.28977\tvalid_1's l2: 27.9817\n",
      "[68]\tvalid_0's rmse: 3.30516\tvalid_0's l2: 10.9241\tvalid_1's rmse: 5.28956\tvalid_1's l2: 27.9794\n",
      "[69]\tvalid_0's rmse: 3.30567\tvalid_0's l2: 10.9274\tvalid_1's rmse: 5.28959\tvalid_1's l2: 27.9797\n",
      "[70]\tvalid_0's rmse: 3.30571\tvalid_0's l2: 10.9277\tvalid_1's rmse: 5.28961\tvalid_1's l2: 27.9799\n",
      "[71]\tvalid_0's rmse: 3.30639\tvalid_0's l2: 10.9322\tvalid_1's rmse: 5.28973\tvalid_1's l2: 27.9812\n",
      "[72]\tvalid_0's rmse: 3.30665\tvalid_0's l2: 10.9339\tvalid_1's rmse: 5.28978\tvalid_1's l2: 27.9817\n",
      "[73]\tvalid_0's rmse: 3.30678\tvalid_0's l2: 10.9348\tvalid_1's rmse: 5.28959\tvalid_1's l2: 27.9797\n",
      "[74]\tvalid_0's rmse: 3.30737\tvalid_0's l2: 10.9387\tvalid_1's rmse: 5.28973\tvalid_1's l2: 27.9812\n",
      "[75]\tvalid_0's rmse: 3.30782\tvalid_0's l2: 10.9417\tvalid_1's rmse: 5.28976\tvalid_1's l2: 27.9816\n",
      "[76]\tvalid_0's rmse: 3.30784\tvalid_0's l2: 10.9418\tvalid_1's rmse: 5.28979\tvalid_1's l2: 27.9818\n",
      "[77]\tvalid_0's rmse: 3.3084\tvalid_0's l2: 10.9455\tvalid_1's rmse: 5.28966\tvalid_1's l2: 27.9806\n",
      "[78]\tvalid_0's rmse: 3.30891\tvalid_0's l2: 10.9489\tvalid_1's rmse: 5.28969\tvalid_1's l2: 27.9808\n",
      "[79]\tvalid_0's rmse: 3.30893\tvalid_0's l2: 10.949\tvalid_1's rmse: 5.28972\tvalid_1's l2: 27.9811\n",
      "[80]\tvalid_0's rmse: 3.30943\tvalid_0's l2: 10.9524\tvalid_1's rmse: 5.28981\tvalid_1's l2: 27.9821\n",
      "[81]\tvalid_0's rmse: 3.30971\tvalid_0's l2: 10.9542\tvalid_1's rmse: 5.28968\tvalid_1's l2: 27.9807\n",
      "[82]\tvalid_0's rmse: 3.31017\tvalid_0's l2: 10.9572\tvalid_1's rmse: 5.28974\tvalid_1's l2: 27.9814\n",
      "[83]\tvalid_0's rmse: 3.31054\tvalid_0's l2: 10.9597\tvalid_1's rmse: 5.28977\tvalid_1's l2: 27.9816\n",
      "[84]\tvalid_0's rmse: 3.31056\tvalid_0's l2: 10.9598\tvalid_1's rmse: 5.28979\tvalid_1's l2: 27.9819\n",
      "[85]\tvalid_0's rmse: 3.311\tvalid_0's l2: 10.9627\tvalid_1's rmse: 5.2897\tvalid_1's l2: 27.9809\n",
      "[86]\tvalid_0's rmse: 3.3111\tvalid_0's l2: 10.9634\tvalid_1's rmse: 5.28976\tvalid_1's l2: 27.9816\n",
      "[87]\tvalid_0's rmse: 3.31114\tvalid_0's l2: 10.9636\tvalid_1's rmse: 5.28975\tvalid_1's l2: 27.9814\n",
      "[88]\tvalid_0's rmse: 3.31165\tvalid_0's l2: 10.9671\tvalid_1's rmse: 5.28988\tvalid_1's l2: 27.9828\n",
      "[89]\tvalid_0's rmse: 3.31194\tvalid_0's l2: 10.9689\tvalid_1's rmse: 5.28977\tvalid_1's l2: 27.9816\n",
      "[90]\tvalid_0's rmse: 3.31198\tvalid_0's l2: 10.9692\tvalid_1's rmse: 5.28979\tvalid_1's l2: 27.9819\n",
      "[91]\tvalid_0's rmse: 3.31232\tvalid_0's l2: 10.9715\tvalid_1's rmse: 5.28993\tvalid_1's l2: 27.9834\n",
      "[92]\tvalid_0's rmse: 3.31264\tvalid_0's l2: 10.9736\tvalid_1's rmse: 5.28983\tvalid_1's l2: 27.9823\n",
      "[93]\tvalid_0's rmse: 3.31268\tvalid_0's l2: 10.9738\tvalid_1's rmse: 5.28987\tvalid_1's l2: 27.9827\n",
      "[94]\tvalid_0's rmse: 3.31297\tvalid_0's l2: 10.9758\tvalid_1's rmse: 5.28988\tvalid_1's l2: 27.9829\n",
      "[95]\tvalid_0's rmse: 3.31302\tvalid_0's l2: 10.9761\tvalid_1's rmse: 5.28991\tvalid_1's l2: 27.9831\n",
      "[96]\tvalid_0's rmse: 3.31344\tvalid_0's l2: 10.9789\tvalid_1's rmse: 5.28999\tvalid_1's l2: 27.9839\n",
      "[97]\tvalid_0's rmse: 3.31347\tvalid_0's l2: 10.9791\tvalid_1's rmse: 5.28998\tvalid_1's l2: 27.9839\n",
      "[98]\tvalid_0's rmse: 3.31369\tvalid_0's l2: 10.9805\tvalid_1's rmse: 5.28994\tvalid_1's l2: 27.9834\n",
      "[99]\tvalid_0's rmse: 3.31392\tvalid_0's l2: 10.9821\tvalid_1's rmse: 5.29\tvalid_1's l2: 27.9841\n",
      "[100]\tvalid_0's rmse: 3.31397\tvalid_0's l2: 10.9824\tvalid_1's rmse: 5.29002\tvalid_1's l2: 27.9843\n",
      "[101]\tvalid_0's rmse: 3.31432\tvalid_0's l2: 10.9847\tvalid_1's rmse: 5.28998\tvalid_1's l2: 27.9838\n"
     ]
    },
    {
     "data": {
      "text/plain": [
       "LGBMRegressor(bagging_fraction=0.7, feature_fraction=0.9, max_depth=4,\n",
       "              n_estimators=1000, random_state=2021, reg_lambda=5,\n",
       "              subsample=0.7)"
      ]
     },
     "execution_count": 384,
     "metadata": {},
     "output_type": "execute_result"
    }
   ],
   "source": [
    "model = LGBMRegressor(random_state=2021,n_estimators=1000, bagging_fraction=0.7, learning_rate=0.1,\n",
    "                         max_depth=4, subsample=0.7, feature_fraction=0.9, boosting_type='gbdt',\n",
    "                         reg_lambda=5, n_jobs=-1)\n",
    "\n",
    "model.fit(X_train, y_train, \n",
    "          eval_set = [(X_train, y_train_log), (X_val, y_val)],\n",
    "          eval_metric = 'rmse',\n",
    "          early_stopping_rounds=100\n",
    "         )"
   ]
  },
  {
   "cell_type": "code",
   "execution_count": 385,
   "metadata": {},
   "outputs": [],
   "source": [
    "test_X = test.iloc[:,8:]\n",
    "# test_X = test.drop(['SEND_SPG_INNB', 'REC_SPG_INNB'], axis=1)\n",
    "pred = model.predict(test_X)\n",
    "ss[\"INVC_CONT\"] = pred"
   ]
  },
  {
   "cell_type": "code",
   "execution_count": 386,
   "metadata": {},
   "outputs": [
    {
     "data": {
      "text/html": [
       "<div>\n",
       "<style scoped>\n",
       "    .dataframe tbody tr th:only-of-type {\n",
       "        vertical-align: middle;\n",
       "    }\n",
       "\n",
       "    .dataframe tbody tr th {\n",
       "        vertical-align: top;\n",
       "    }\n",
       "\n",
       "    .dataframe thead th {\n",
       "        text-align: right;\n",
       "    }\n",
       "</style>\n",
       "<table border=\"1\" class=\"dataframe\">\n",
       "  <thead>\n",
       "    <tr style=\"text-align: right;\">\n",
       "      <th></th>\n",
       "      <th>index</th>\n",
       "      <th>INVC_CONT</th>\n",
       "    </tr>\n",
       "  </thead>\n",
       "  <tbody>\n",
       "    <tr>\n",
       "      <th>0</th>\n",
       "      <td>32000</td>\n",
       "      <td>4.724444</td>\n",
       "    </tr>\n",
       "    <tr>\n",
       "      <th>1</th>\n",
       "      <td>32001</td>\n",
       "      <td>4.724444</td>\n",
       "    </tr>\n",
       "    <tr>\n",
       "      <th>2</th>\n",
       "      <td>32002</td>\n",
       "      <td>4.724444</td>\n",
       "    </tr>\n",
       "    <tr>\n",
       "      <th>3</th>\n",
       "      <td>32003</td>\n",
       "      <td>4.724444</td>\n",
       "    </tr>\n",
       "    <tr>\n",
       "      <th>4</th>\n",
       "      <td>32004</td>\n",
       "      <td>4.724444</td>\n",
       "    </tr>\n",
       "    <tr>\n",
       "      <th>...</th>\n",
       "      <td>...</td>\n",
       "      <td>...</td>\n",
       "    </tr>\n",
       "    <tr>\n",
       "      <th>4635</th>\n",
       "      <td>36635</td>\n",
       "      <td>4.724444</td>\n",
       "    </tr>\n",
       "    <tr>\n",
       "      <th>4636</th>\n",
       "      <td>36636</td>\n",
       "      <td>4.724444</td>\n",
       "    </tr>\n",
       "    <tr>\n",
       "      <th>4637</th>\n",
       "      <td>36637</td>\n",
       "      <td>4.724444</td>\n",
       "    </tr>\n",
       "    <tr>\n",
       "      <th>4638</th>\n",
       "      <td>36638</td>\n",
       "      <td>4.724444</td>\n",
       "    </tr>\n",
       "    <tr>\n",
       "      <th>4639</th>\n",
       "      <td>36639</td>\n",
       "      <td>4.724444</td>\n",
       "    </tr>\n",
       "  </tbody>\n",
       "</table>\n",
       "<p>4640 rows × 2 columns</p>\n",
       "</div>"
      ],
      "text/plain": [
       "      index  INVC_CONT\n",
       "0     32000   4.724444\n",
       "1     32001   4.724444\n",
       "2     32002   4.724444\n",
       "3     32003   4.724444\n",
       "4     32004   4.724444\n",
       "...     ...        ...\n",
       "4635  36635   4.724444\n",
       "4636  36636   4.724444\n",
       "4637  36637   4.724444\n",
       "4638  36638   4.724444\n",
       "4639  36639   4.724444\n",
       "\n",
       "[4640 rows x 2 columns]"
      ]
     },
     "execution_count": 386,
     "metadata": {},
     "output_type": "execute_result"
    }
   ],
   "source": [
    "ss"
   ]
  },
  {
   "cell_type": "code",
   "execution_count": 387,
   "metadata": {},
   "outputs": [],
   "source": [
    "ss.to_csv('sample_submssion_lgbm2.csv',index = False)"
   ]
  }
 ],
 "metadata": {
  "interpreter": {
   "hash": "60499b81eba5d675b2e5eb8d2b35aff941171ec97d5f91757c93f4a89cfafe09"
  },
  "kernelspec": {
   "display_name": "Python 3.8.8 64-bit ('base': conda)",
   "language": "python",
   "name": "python3"
  },
  "language_info": {
   "codemirror_mode": {
    "name": "ipython",
    "version": 3
   },
   "file_extension": ".py",
   "mimetype": "text/x-python",
   "name": "python",
   "nbconvert_exporter": "python",
   "pygments_lexer": "ipython3",
   "version": "3.8.8"
  },
  "orig_nbformat": 4
 },
 "nbformat": 4,
 "nbformat_minor": 2
}

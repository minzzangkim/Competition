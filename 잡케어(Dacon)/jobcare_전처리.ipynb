{
 "cells": [
  {
   "cell_type": "code",
   "execution_count": 25,
   "metadata": {},
   "outputs": [],
   "source": [
    "import pandas as pd"
   ]
  },
  {
   "cell_type": "code",
   "execution_count": 26,
   "metadata": {},
   "outputs": [],
   "source": [
    "# 데이터 로드\n",
    "train = pd.read_csv('C:/Users/김민성/Desktop/공모전/잡케어 추천 알고리즘 경진대회/Jobcare_data/train.csv', encoding='cp949').set_index(keys=\"id\")\n",
    "test = pd.read_csv('C:/Users/김민성/Desktop/공모전/잡케어 추천 알고리즘 경진대회/Jobcare_data/test.csv', encoding='cp949').set_index(keys=\"id\")\n",
    "d_code = pd.read_csv('C:/Users/김민성/Desktop/공모전/잡케어 추천 알고리즘 경진대회/Jobcare_data/속성_D_코드.csv', encoding='utf-8').set_index(keys=\"속성 D 코드\")\n",
    "h_code = pd.read_csv('C:/Users/김민성/Desktop/공모전/잡케어 추천 알고리즘 경진대회/Jobcare_data/속성_H_코드.csv', encoding='utf-8').set_index(keys=\"속성 H 코드\")\n",
    "l_code = pd.read_csv('C:/Users/김민성/Desktop/공모전/잡케어 추천 알고리즘 경진대회/Jobcare_data/속성_L_코드.csv', encoding='utf-8').set_index(keys=\"속성 L 코드\")\n",
    "ss= pd.read_csv('C:/Users/김민성/Desktop/공모전/잡케어 추천 알고리즘 경진대회/Jobcare_data/sample_submission.csv', encoding='utf-8')"
   ]
  },
  {
   "cell_type": "code",
   "execution_count": 27,
   "metadata": {},
   "outputs": [],
   "source": [
    "train.rename({'d_l_match_yn' : 'd1_l_match_yn', 'd_m_match_yn' : 'd1_m_match_yn', 'd_s_match_yn' : 'd1_a_match_yn', \n",
    "              'h_l_match_yn' : 'h1_l_match_yn', 'h_m_match_yn' : 'h1_m_match_yn', 'h_s_match_yn' : 'h1_a_match_yn'}, axis='columns', inplace=True)"
   ]
  },
  {
   "cell_type": "code",
   "execution_count": 28,
   "metadata": {},
   "outputs": [],
   "source": [
    "test.rename({'d_l_match_yn' : 'd1_l_match_yn', 'd_m_match_yn' : 'd1_m_match_yn', 'd_s_match_yn' : 'd1_a_match_yn', \n",
    "              'h_l_match_yn' : 'h1_l_match_yn', 'h_m_match_yn' : 'h1_m_match_yn', 'h_s_match_yn' : 'h1_a_match_yn'}, axis='columns', inplace=True)"
   ]
  },
  {
   "cell_type": "code",
   "execution_count": 29,
   "metadata": {},
   "outputs": [],
   "source": [
    "def createDF(main_df,d_code=d_code,h_code=h_code,l_code=l_code):\n",
    "    main_df=main_df.copy()\n",
    "\n",
    "    main_df[\"person_prefer_d_1_n\"]=main_df[\"person_prefer_d_1\"].apply(lambda x: d_code.loc[x,\"속성 D 세분류코드\"])\n",
    "    main_df[\"person_prefer_d_1_s\"]=main_df[\"person_prefer_d_1\"].apply(lambda x: d_code.loc[x,\"속성 D 소분류코드\"])\n",
    "    main_df[\"person_prefer_d_1_m\"]=main_df[\"person_prefer_d_1\"].apply(lambda x: d_code.loc[x,\"속성 D 중분류코드\"])\n",
    "    main_df[\"person_prefer_d_1_l\"]=main_df[\"person_prefer_d_1\"].apply(lambda x: d_code.loc[x,\"속성 D 대분류코드\"])\n",
    "    \n",
    "    main_df[\"person_prefer_d_2_n\"]=main_df[\"person_prefer_d_2\"].apply(lambda x: d_code.loc[x,\"속성 D 세분류코드\"])\n",
    "    main_df[\"person_prefer_d_2_s\"]=main_df[\"person_prefer_d_2\"].apply(lambda x: d_code.loc[x,\"속성 D 소분류코드\"])\n",
    "    main_df[\"person_prefer_d_2_m\"]=main_df[\"person_prefer_d_2\"].apply(lambda x: d_code.loc[x,\"속성 D 중분류코드\"])\n",
    "    main_df[\"person_prefer_d_2_l\"]=main_df[\"person_prefer_d_2\"].apply(lambda x: d_code.loc[x,\"속성 D 대분류코드\"])\n",
    "    \n",
    "    main_df[\"person_prefer_d_3_n\"]=main_df[\"person_prefer_d_3\"].apply(lambda x: d_code.loc[x,\"속성 D 세분류코드\"])\n",
    "    main_df[\"person_prefer_d_3_s\"]=main_df[\"person_prefer_d_3\"].apply(lambda x: d_code.loc[x,\"속성 D 소분류코드\"])\n",
    "    main_df[\"person_prefer_d_3_m\"]=main_df[\"person_prefer_d_3\"].apply(lambda x: d_code.loc[x,\"속성 D 중분류코드\"])\n",
    "    main_df[\"person_prefer_d_3_l\"]=main_df[\"person_prefer_d_3\"].apply(lambda x: d_code.loc[x,\"속성 D 대분류코드\"])\n",
    "    \n",
    "    main_df['person_prefer_h_1_m']=main_df['person_prefer_h_1'].apply(lambda x: h_code.loc[x,\"속성 H 중분류코드\"])\n",
    "    main_df['person_prefer_h_1_l']=main_df['person_prefer_h_1'].apply(lambda x: h_code.loc[x,\"속성 H 대분류코드\"])\n",
    "    \n",
    "    main_df['person_prefer_h_2_m']=main_df['person_prefer_h_2'].apply(lambda x: h_code.loc[x,\"속성 H 중분류코드\"])\n",
    "    main_df['person_prefer_h_2_l']=main_df['person_prefer_h_2'].apply(lambda x: h_code.loc[x,\"속성 H 대분류코드\"])\n",
    "    \n",
    "    main_df['person_prefer_h_3_m']=main_df['person_prefer_h_3'].apply(lambda x: h_code.loc[x,\"속성 H 중분류코드\"])\n",
    "    main_df['person_prefer_h_3_l']=main_df['person_prefer_h_3'].apply(lambda x: h_code.loc[x,\"속성 H 대분류코드\"])\n",
    "    \n",
    "    main_df['contents_attribute_l_n']=main_df['contents_attribute_l'].apply(lambda x: l_code.loc[x,\"속성 L 세분류코드\"])\n",
    "    main_df['contents_attribute_l_s']=main_df['contents_attribute_l'].apply(lambda x: l_code.loc[x,\"속성 L 소분류코드\"])\n",
    "    main_df['contents_attribute_l_m']=main_df['contents_attribute_l'].apply(lambda x: l_code.loc[x,\"속성 L 중분류코드\"])\n",
    "    main_df['contents_attribute_l_l']=main_df['contents_attribute_l'].apply(lambda x: l_code.loc[x,\"속성 L 대분류코드\"])\n",
    "    \n",
    "    main_df['contents_attribute_d_n']=main_df['contents_attribute_d'].apply(lambda x: d_code.loc[x,\"속성 D 세분류코드\"])\n",
    "    main_df['contents_attribute_d_s']=main_df['contents_attribute_d'].apply(lambda x: d_code.loc[x,\"속성 D 소분류코드\"])\n",
    "    main_df['contents_attribute_d_m']=main_df['contents_attribute_d'].apply(lambda x: d_code.loc[x,\"속성 D 중분류코드\"])\n",
    "    main_df['contents_attribute_d_l']=main_df['contents_attribute_d'].apply(lambda x: d_code.loc[x,\"속성 D 대분류코드\"])\n",
    "\n",
    "    main_df['contents_attribute_h_m']=main_df['contents_attribute_h'].apply(lambda x: h_code.loc[x,\"속성 H 중분류코드\"])\n",
    "    main_df['contents_attribute_h_l']=main_df['contents_attribute_h'].apply(lambda x: h_code.loc[x,\"속성 H 대분류코드\"])\n",
    "    \n",
    "    return main_df"
   ]
  },
  {
   "cell_type": "code",
   "execution_count": 30,
   "metadata": {},
   "outputs": [],
   "source": [
    "def preprocessing(df:pd.DataFrame)->pd.DataFrame:\n",
    "    df=df.copy()\n",
    "    \n",
    "    df['d_1_s_match_yn']=(df['person_prefer_d_1_s']==df['contents_attribute_d_s']) #d 소분류 매칭여부\n",
    "    df['d_1_m_matck_yn']=(df['person_prefer_d_1_m']==df['contents_attribute_d_m']) #d 중분류 매칭여부\n",
    "    \n",
    "    df['d_2_a_match_yn']=(df['person_prefer_d_2']==df['contents_attribute_d'])\n",
    "    df['d_2_n_match_yn']=(df['person_prefer_d_2_n']==df['contents_attribute_d_n'])\n",
    "    df['d_2_s_match_yn']=(df['person_prefer_d_2_s']==df['contents_attribute_d_s'])\n",
    "    df['d_2_m_match_yn']=(df['person_prefer_d_2_m']==df['contents_attribute_d_m'])\n",
    "    df['d_2_l_match_yn']=(df['person_prefer_d_2_l']==df['contents_attribute_d_l'])\n",
    "    \n",
    "    df['d_3_a_match_yn']=(df['person_prefer_d_3']==df['contents_attribute_d'])\n",
    "    df['d_3_n_match_yn']=(df['person_prefer_d_3_n']==df['contents_attribute_d_n'])\n",
    "    df['d_3_s_match_yn']=(df['person_prefer_d_3_s']==df['contents_attribute_d_s'])\n",
    "    df['d_3_m_match_yn']=(df['person_prefer_d_3_m']==df['contents_attribute_d_m'])\n",
    "    df['d_3_l_match_yn']=(df['person_prefer_d_3_l']==df['contents_attribute_d_l'])\n",
    "    \n",
    "    df['h_2_a_match_yn']=(df['person_prefer_h_2']==df['contents_attribute_h'])\n",
    "    df['h_2_m_match_yn']=(df['person_prefer_h_2_m']==df['contents_attribute_h_m'])\n",
    "    df['h_2_l_match_yn']=(df['person_prefer_h_2_l']==df['contents_attribute_h_l'])\n",
    "    \n",
    "    df['h_3_a_match_yn']=(df['person_prefer_h_3']==df['contents_attribute_h'])\n",
    "    df['h_3_m_match_yn']=(df['person_prefer_h_3_m']==df['contents_attribute_h_m'])\n",
    "    df['h_3_l_match_yn']=(df['person_prefer_h_3_l']==df['contents_attribute_h_l'])\n",
    "    \n",
    "    df['a_match_yn']=(df['person_attribute_a']==df['contents_attribute_a'])\n",
    "    df['c_match_yn']=(df['person_prefer_c']==df['contents_attribute_c'])\n",
    "    df['e_match_yn']=(df['person_prefer_e']==df['contents_attribute_e'])\n",
    "    \n",
    "    for column in df.keys():\n",
    "        if column=='contents_open_dt':\n",
    "            df[column]=df[column].astype('datetime64').dt.dayofweek #0~6(0부터 월요일~)\n",
    "#             dt.dayofweek 에서 dt는 접근자\n",
    "        if df[column].dtypes!='datetime64':\n",
    "            df[column]=df[column].astype('int64')\n",
    "\n",
    "    df['contents_attribute_j']=df['contents_attribute_j'].apply(lambda x: 0 if x==1 else 10)+df['contents_attribute_j_1']\n",
    "    df['contents_attribute_k']-=1\n",
    "    df.drop(['person_prefer_g', 'person_prefer_f', 'contents_open_dt', 'person_rn', 'contents_rn'],axis=1,inplace=True)\n",
    "\n",
    "    return df"
   ]
  },
  {
   "cell_type": "code",
   "execution_count": 31,
   "metadata": {},
   "outputs": [],
   "source": [
    "train=preprocessing(createDF(train))\n",
    "test=preprocessing(createDF(test))"
   ]
  },
  {
   "cell_type": "code",
   "execution_count": 32,
   "metadata": {},
   "outputs": [],
   "source": [
    "train.to_csv(\"train.csv\")"
   ]
  },
  {
   "cell_type": "code",
   "execution_count": 33,
   "metadata": {},
   "outputs": [],
   "source": [
    "test.to_csv(\"test.csv\")"
   ]
  }
 ],
 "metadata": {
  "interpreter": {
   "hash": "97ae724bfa85b9b34df7982b8bb8c7216f435b92902d749e4263f71162bea840"
  },
  "kernelspec": {
   "display_name": "Python 3.9.7 64-bit ('base': conda)",
   "language": "python",
   "name": "python3"
  },
  "language_info": {
   "codemirror_mode": {
    "name": "ipython",
    "version": 3
   },
   "file_extension": ".py",
   "mimetype": "text/x-python",
   "name": "python",
   "nbconvert_exporter": "python",
   "pygments_lexer": "ipython3",
   "version": "3.9.7"
  },
  "orig_nbformat": 4
 },
 "nbformat": 4,
 "nbformat_minor": 2
}

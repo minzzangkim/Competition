{
 "cells": [
  {
   "cell_type": "markdown",
   "id": "c7eb8eb8",
   "metadata": {},
   "source": [
    "# 라이브러리 및 데이터 로드"
   ]
  },
  {
   "cell_type": "code",
   "execution_count": 1,
   "id": "08ca588e",
   "metadata": {},
   "outputs": [],
   "source": [
    "import pandas as pd\n",
    "import numpy as np\n",
    "from sklearn.linear_model import LogisticRegression #로지스틱 회귀\n",
    "from sklearn.model_selection import train_test_split\n",
    "from sklearn.preprocessing import MinMaxScaler\n",
    "from sklearn.ensemble import RandomForestClassifier #랜덤포레스트\n",
    "import tensorflow as tf\n",
    "from tensorflow.keras import layers\n",
    "from catboost import Pool,CatBoostClassifier\n",
    "from sklearn.model_selection import StratifiedKFold,KFold\n",
    "from sklearn.metrics import f1_score\n",
    "import matplotlib.pyplot as plt\n",
    "import seaborn as sns\n",
    "pd.set_option('max_columns', 100)\n",
    "pd.set_option('display.max_rows', 10000)\n",
    "import optuna\n",
    "from optuna import Trial, visualization\n",
    "from optuna.samplers import TPESampler"
   ]
  },
  {
   "cell_type": "code",
   "execution_count": 2,
   "id": "74f254c4",
   "metadata": {},
   "outputs": [],
   "source": [
    "# 인덱스 설정\n",
    "tmp_train=pd.read_csv(\"train.csv\").set_index(keys='id')\n",
    "tmp_test=pd.read_csv(\"test.csv\").set_index(keys='id')\n",
    "d_code=pd.read_csv(\"속성_D_코드.csv\").set_index(keys='속성 D 코드')\n",
    "h_code=pd.read_csv(\"속성_H_코드.csv\").set_index(keys='속성 H 코드')\n",
    "l_code=pd.read_csv(\"속성_L_코드.csv\").set_index(keys='속성 L 코드')\n"
   ]
  },
  {
   "cell_type": "markdown",
   "id": "f2ee113e",
   "metadata": {},
   "source": [
    "# DataFrame 전처리 - 회원과 컨텐츠 속성 매칭"
   ]
  },
  {
   "cell_type": "markdown",
   "id": "2cc1a49d",
   "metadata": {},
   "source": [
    "## DF 통합 함수"
   ]
  },
  {
   "cell_type": "code",
   "execution_count": 3,
   "id": "a5272b41",
   "metadata": {},
   "outputs": [],
   "source": [
    "def createDF(main_df,d_code=d_code,h_code=h_code,l_code=l_code): #n:세분류,s:소분류,m:중분류,l:대분류\n",
    "    main_df=main_df.copy() #df 복사본 만들기\n",
    "\n",
    "    \n",
    "    # 하위 속성이 존재하는 속성에 대해 데이터프레임 통합\n",
    "    main_df[\"person_prefer_d_1_n\"]=main_df[\"person_prefer_d_1\"].apply(lambda x: d_code.loc[x,\"속성 D 세분류코드\"])\n",
    "    main_df[\"person_prefer_d_1_s\"]=main_df[\"person_prefer_d_1\"].apply(lambda x: d_code.loc[x,\"속성 D 소분류코드\"])\n",
    "    main_df[\"person_prefer_d_1_m\"]=main_df[\"person_prefer_d_1\"].apply(lambda x: d_code.loc[x,\"속성 D 중분류코드\"])\n",
    "    main_df[\"person_prefer_d_1_l\"]=main_df[\"person_prefer_d_1\"].apply(lambda x: d_code.loc[x,\"속성 D 대분류코드\"])\n",
    "    \n",
    "    main_df[\"person_prefer_d_2_n\"]=main_df[\"person_prefer_d_2\"].apply(lambda x: d_code.loc[x,\"속성 D 세분류코드\"])\n",
    "    main_df[\"person_prefer_d_2_s\"]=main_df[\"person_prefer_d_2\"].apply(lambda x: d_code.loc[x,\"속성 D 소분류코드\"])\n",
    "    main_df[\"person_prefer_d_2_m\"]=main_df[\"person_prefer_d_2\"].apply(lambda x: d_code.loc[x,\"속성 D 중분류코드\"])\n",
    "    main_df[\"person_prefer_d_2_l\"]=main_df[\"person_prefer_d_2\"].apply(lambda x: d_code.loc[x,\"속성 D 대분류코드\"])\n",
    "    \n",
    "    main_df[\"person_prefer_d_3_n\"]=main_df[\"person_prefer_d_3\"].apply(lambda x: d_code.loc[x,\"속성 D 세분류코드\"])\n",
    "    main_df[\"person_prefer_d_3_s\"]=main_df[\"person_prefer_d_3\"].apply(lambda x: d_code.loc[x,\"속성 D 소분류코드\"])\n",
    "    main_df[\"person_prefer_d_3_m\"]=main_df[\"person_prefer_d_3\"].apply(lambda x: d_code.loc[x,\"속성 D 중분류코드\"])\n",
    "    main_df[\"person_prefer_d_3_l\"]=main_df[\"person_prefer_d_3\"].apply(lambda x: d_code.loc[x,\"속성 D 대분류코드\"])\n",
    "    \n",
    "    main_df['person_prefer_h_1_m']=main_df['person_prefer_h_1'].apply(lambda x: h_code.loc[x,\"속성 H 중분류코드\"])\n",
    "    main_df['person_prefer_h_1_l']=main_df['person_prefer_h_1'].apply(lambda x: h_code.loc[x,\"속성 H 대분류코드\"])\n",
    "    \n",
    "    main_df['person_prefer_h_2_m']=main_df['person_prefer_h_2'].apply(lambda x: h_code.loc[x,\"속성 H 중분류코드\"])\n",
    "    main_df['person_prefer_h_2_l']=main_df['person_prefer_h_2'].apply(lambda x: h_code.loc[x,\"속성 H 대분류코드\"])\n",
    "    \n",
    "    main_df['person_prefer_h_3_m']=main_df['person_prefer_h_3'].apply(lambda x: h_code.loc[x,\"속성 H 중분류코드\"])\n",
    "    main_df['person_prefer_h_3_l']=main_df['person_prefer_h_3'].apply(lambda x: h_code.loc[x,\"속성 H 대분류코드\"])\n",
    "    \n",
    "    main_df['contents_attribute_l_n']=main_df['contents_attribute_l'].apply(lambda x: l_code.loc[x,\"속성 L 세분류코드\"])\n",
    "    main_df['contents_attribute_l_s']=main_df['contents_attribute_l'].apply(lambda x: l_code.loc[x,\"속성 L 소분류코드\"])\n",
    "    main_df['contents_attribute_l_m']=main_df['contents_attribute_l'].apply(lambda x: l_code.loc[x,\"속성 L 중분류코드\"])\n",
    "    main_df['contents_attribute_l_l']=main_df['contents_attribute_l'].apply(lambda x: l_code.loc[x,\"속성 L 대분류코드\"])\n",
    "    \n",
    "    main_df['contents_attribute_d_n']=main_df['contents_attribute_d'].apply(lambda x: d_code.loc[x,\"속성 D 세분류코드\"])\n",
    "    main_df['contents_attribute_d_s']=main_df['contents_attribute_d'].apply(lambda x: d_code.loc[x,\"속성 D 소분류코드\"])\n",
    "    main_df['contents_attribute_d_m']=main_df['contents_attribute_d'].apply(lambda x: d_code.loc[x,\"속성 D 중분류코드\"])\n",
    "    main_df['contents_attribute_d_l']=main_df['contents_attribute_d'].apply(lambda x: d_code.loc[x,\"속성 D 대분류코드\"])\n",
    "\n",
    "    main_df['contents_attribute_h_m']=main_df['contents_attribute_h'].apply(lambda x: h_code.loc[x,\"속성 H 중분류코드\"])\n",
    "    main_df['contents_attribute_h_l']=main_df['contents_attribute_h'].apply(lambda x: h_code.loc[x,\"속성 H 대분류코드\"])\n",
    "    \n",
    "    return main_df\n",
    "    "
   ]
  },
  {
   "cell_type": "markdown",
   "id": "7b116c51",
   "metadata": {},
   "source": [
    "## DF 회원과 컨텐츠 속성 매칭 전처리 함수"
   ]
  },
  {
   "cell_type": "code",
   "execution_count": 4,
   "id": "939e8e5c",
   "metadata": {
    "scrolled": false
   },
   "outputs": [],
   "source": [
    "def preprocessing(df:pd.DataFrame)->pd.DataFrame: #'->'는 Return 값이 어떤 상태인지를 명시하기 위함\n",
    "    df=df.copy()\n",
    "    #df 복사본 만들기\n",
    "    df.drop(['person_prefer_f','person_prefer_g','contents_rn','person_rn'],axis=1,inplace=True)\n",
    "    #person_prefer_f,g는 값이 모두 1임\n",
    "    \n",
    "    #회원 속성과 컨텐츠속성 매칭해서 True, False 명시\n",
    "    \n",
    "    #d 코드 매칭여부, d 세분류 매칭여부, d 소분류 매칭여부, d 중분류 매칭여부, d 대분류 매칭여부\n",
    "    df['d_match_yn']=df['d_s_match_yn'] \n",
    "    df['d_n_match_yn']=df['d_m_match_yn'] \n",
    "    df['d_s_match_yn']=(df['person_prefer_d_1_s']==df['contents_attribute_d_s']) \n",
    "    df['d_m_matck_yn']=(df['person_prefer_d_1_m']==df['contents_attribute_d_m']) \n",
    "    #df['d_l_match_yn']은 이미 존재\n",
    "    \n",
    "    #d_2 코드 매칭여부, d_2 세분류 매칭여부, d_2 소분류 매칭여부, d_2 중분류 매칭여부, d_2 대분류 매칭여부\n",
    "    df['d_2_match_yn']=(df['person_prefer_d_2']==df['contents_attribute_d'])\n",
    "    df['d_2_n_match_yn']=(df['person_prefer_d_2_n']==df['contents_attribute_d_n'])\n",
    "    df['d_2_s_match_yn']=(df['person_prefer_d_2_s']==df['contents_attribute_d_s'])\n",
    "    df['d_2_m_match_yn']=(df['person_prefer_d_2_m']==df['contents_attribute_d_m'])\n",
    "    df['d_2_l_match_yn']=(df['person_prefer_d_2_l']==df['contents_attribute_d_l'])\n",
    "    \n",
    "    #d_3 코드 매칭여부, d_3 세분류 매칭여부, d_3 소분류 매칭여부, d_3 중분류 매칭여부, d_3 대분류 매칭여부\n",
    "    df['d_3_match_yn']=(df['person_prefer_d_3']==df['contents_attribute_d'])\n",
    "    df['d_3_n_match_yn']=(df['person_prefer_d_3_n']==df['contents_attribute_d_n'])\n",
    "    df['d_3_s_match_yn']=(df['person_prefer_d_3_s']==df['contents_attribute_d_s'])\n",
    "    df['d_3_m_match_yn']=(df['person_prefer_d_3_m']==df['contents_attribute_d_m'])\n",
    "    df['d_3_l_match_yn']=(df['person_prefer_d_3_l']==df['contents_attribute_d_l'])\n",
    "    \n",
    "    #h 코드 매칭여부, h 소분류 매칭여부, h 중분류 매칭여부, h 대분류 매칭여부\n",
    "    df['h_match_yn']=df['h_s_match_yn']\n",
    "    #df['h_s_match_yn'], df['h_m_match_yn'], df['h_l_match_yn'] 은 이미 존재\n",
    "    \n",
    "    #나머지 코드에 대해서도 모두 회원-컨텐츠 매칭\n",
    "    df['h_2_match_yn']=(df['person_prefer_h_2']==df['contents_attribute_h'])\n",
    "    df['h_2_m_match_yn']=(df['person_prefer_h_2_m']==df['contents_attribute_h_m'])\n",
    "    df['h_2_l_match_yn']=(df['person_prefer_h_2_l']==df['contents_attribute_h_l'])\n",
    "    df['h_3_match_yn']=(df['person_prefer_h_3']==df['contents_attribute_h'])\n",
    "    df['h_3_m_match_yn']=(df['person_prefer_h_3_m']==df['contents_attribute_h_m'])\n",
    "    df['h_3_l_match_yn']=(df['person_prefer_h_3_l']==df['contents_attribute_h_l'])\n",
    "    df['a_match_yn']=(df['person_attribute_a']==df['contents_attribute_a'])\n",
    "    df['c_match_yn']=(df['person_prefer_c']==df['contents_attribute_c'])\n",
    "    df['e_match_yn']=(df['person_prefer_e']==df['contents_attribute_e'])\n",
    "    \n",
    "    for column in df.keys():\n",
    "        if column=='contents_open_dt':\n",
    "            df[column]=df[column].astype('datetime64').dt.dayofweek #0~6(0부터 월요일~)\n",
    "            #dt.dayofweek 에서 dt는 접근자\n",
    "        if df[column].dtypes!='datetime64':\n",
    "            df[column]=df[column].astype('int64') #날짜 데이터를 제외한 모든 칼럼 타입 int로 단일화\n",
    "\n",
    "    df['contents_attribute_k']-=1 # 기존 1,2로 되어있던 칼럼 값은 0,1로 맞춤\n",
    "    df.drop(['h_s_match_yn','contents_open_dt'],axis=1,inplace=True) \n",
    "    # h_s_match_yn은 h_match_yn으로 대체했기 때문에 삭제, 요일 데이터는 EDA 과정에서 변별력이 없음을 확인했기 때문에 삭제\n",
    "    return df\n"
   ]
  },
  {
   "cell_type": "markdown",
   "id": "e3f5e059",
   "metadata": {},
   "source": [
    "## 각각 데이터 전처리 실시(train, test)"
   ]
  },
  {
   "cell_type": "code",
   "execution_count": 5,
   "id": "7e9fde24",
   "metadata": {
    "scrolled": false
   },
   "outputs": [
    {
     "name": "stdout",
     "output_type": "stream",
     "text": [
      "--------start---------\n",
      "---------mid_1----------\n",
      "---------mid_2----------\n",
      "---------mid_3----------\n",
      "-----------finish------------\n",
      "--------start---------\n",
      "---------mid_1----------\n",
      "---------mid_2----------\n",
      "---------mid_3----------\n",
      "-----------finish------------\n"
     ]
    }
   ],
   "source": [
    "train_set=preprocessing(createDF(tmp_train))\n",
    "test_set=preprocessing(createDF(tmp_test))"
   ]
  },
  {
   "cell_type": "markdown",
   "id": "0387dac4",
   "metadata": {},
   "source": [
    "## Target Data Split"
   ]
  },
  {
   "cell_type": "code",
   "execution_count": 8,
   "id": "960985b9",
   "metadata": {},
   "outputs": [],
   "source": [
    "# 타겟 칼럼 인덱스값 반환\n",
    "key_list=list(train_set.keys())\n",
    "target_idx=key_list.index('target')\n",
    "# x,y 데이터 분리\n",
    "y_train=train_set['target']\n",
    "x_train=train_set[key_list[:target_idx]+key_list[target_idx+1:]]"
   ]
  },
  {
   "cell_type": "markdown",
   "id": "d6343f4a",
   "metadata": {},
   "source": [
    "# Optuna 파라미터 최적화"
   ]
  },
  {
   "cell_type": "code",
   "execution_count": 12,
   "id": "10f39b1e",
   "metadata": {},
   "outputs": [],
   "source": [
    "def objective(trial):\n",
    "    op_x_train,op_x_val,op_y_train,op_y_val=train_test_split(x_train,y_train,test_size=0.2,shuffle=True,stratify=y_train,random_state=50)\n",
    "    op_cat_features=op_x_train.columns[x_train.nunique()>2].to_list()\n",
    "    \n",
    "    # 튜닝할 파라미터\n",
    "    param={\n",
    "        'random_state':50,\n",
    "        'learning_rate' : trial.suggest_loguniform('learning_rate', 0.01, 0.3),\n",
    "        'objective':trial.suggest_categorical('objective',['Logloss','CrossEntropy']),\n",
    "        \"colsample_bylevel\": trial.suggest_float(\"colsample_bylevel\", 0.1, 1.0),\n",
    "        \"depth\": trial.suggest_int(\"depth\", 4, 16),\n",
    "        \"boosting_type\": trial.suggest_categorical(\"boosting_type\", [\"Ordered\", \"Plain\"]),\n",
    "        \"bootstrap_type\": trial.suggest_categorical(\n",
    "            \"bootstrap_type\", [\"Bayesian\", \"Bernoulli\", \"MVS\"]),\n",
    "        \"used_ram_limit\": \"3gb\"\n",
    "    }\n",
    "    \n",
    "    if param[\"bootstrap_type\"] == \"Bayesian\":\n",
    "        param[\"bagging_temperature\"] = trial.suggest_float(\"bagging_temperature\", 0, 50)\n",
    "    elif param[\"bootstrap_type\"] == \"Bernoulli\":\n",
    "        param[\"subsample\"] = trial.suggest_float(\"subsample\", 0.1, 1)\n",
    "        \n",
    "    gbm = CatBoostClassifier(**param,\n",
    "                             eval_metric='F1',\n",
    "                            )\n",
    "\n",
    "    gbm.fit(op_x_train, op_y_train,\n",
    "            eval_set=[(op_x_val, op_y_val)], \n",
    "            verbose=100, early_stopping_rounds=100,\n",
    "           cat_features=op_cat_features)\n",
    "   \n",
    "    preds = gbm.predict(op_x_val)\n",
    "    pred_labels = np.rint(preds)\n",
    "    accuracy = f1_score(op_y_val, pred_labels)\n",
    "    return accuracy\n",
    "    "
   ]
  },
  {
   "cell_type": "markdown",
   "id": "e6e3312e",
   "metadata": {},
   "source": [
    "F1스코어를 최대화하는 방향으로 optuna 진행"
   ]
  },
  {
   "cell_type": "code",
   "execution_count": null,
   "id": "16b4fbf4",
   "metadata": {
    "scrolled": false
   },
   "outputs": [
    {
     "name": "stderr",
     "output_type": "stream",
     "text": [
      "\u001b[32m[I 2022-01-27 14:48:42,854]\u001b[0m A new study created in memory with name: no-name-2b8552f4-1d6e-48e1-a204-076566b50f70\u001b[0m\n"
     ]
    },
    {
     "name": "stdout",
     "output_type": "stream",
     "text": [
      "0:\tlearn: 0.6193824\ttest: 0.6179773\tbest: 0.6179773 (0)\ttotal: 2.43s\tremaining: 40m 29s\n",
      "100:\tlearn: 0.6794778\ttest: 0.6874739\tbest: 0.6880381 (95)\ttotal: 5m\tremaining: 44m 33s\n",
      "200:\tlearn: 0.6962243\ttest: 0.6894330\tbest: 0.6894531 (157)\ttotal: 9m 55s\tremaining: 39m 26s\n",
      "300:\tlearn: 0.7112682\ttest: 0.6888960\tbest: 0.6896881 (255)\ttotal: 14m 49s\tremaining: 34m 26s\n",
      "Stopped by overfitting detector  (100 iterations wait)\n",
      "\n",
      "bestTest = 0.689688061\n",
      "bestIteration = 255\n",
      "\n",
      "Shrink model to first 256 iterations.\n"
     ]
    },
    {
     "name": "stderr",
     "output_type": "stream",
     "text": [
      "\u001b[32m[I 2022-01-27 15:06:36,436]\u001b[0m Trial 0 finished with value: 0.6896880610412927 and parameters: {'learning_rate': 0.19287629564761058, 'objective': 'Logloss', 'colsample_bylevel': 0.2673201088811613, 'depth': 9, 'boosting_type': 'Plain', 'bootstrap_type': 'Bernoulli', 'subsample': 0.4621291559327826}. Best is trial 0 with value: 0.6896880610412927.\u001b[0m\n"
     ]
    },
    {
     "name": "stdout",
     "output_type": "stream",
     "text": [
      "0:\tlearn: 0.6154070\ttest: 0.6143346\tbest: 0.6143346 (0)\ttotal: 2.87s\tremaining: 47m 42s\n",
      "100:\tlearn: 0.6450055\ttest: 0.6479731\tbest: 0.6481370 (99)\ttotal: 5m 7s\tremaining: 45m 38s\n",
      "200:\tlearn: 0.6596400\ttest: 0.6705277\tbest: 0.6706607 (199)\ttotal: 11m 18s\tremaining: 44m 55s\n",
      "300:\tlearn: 0.6663644\ttest: 0.6781436\tbest: 0.6781436 (300)\ttotal: 17m 13s\tremaining: 39m 59s\n",
      "400:\tlearn: 0.6710065\ttest: 0.6823174\tbest: 0.6823588 (398)\ttotal: 23m 7s\tremaining: 34m 32s\n",
      "500:\tlearn: 0.6749002\ttest: 0.6849186\tbest: 0.6850012 (492)\ttotal: 28m 59s\tremaining: 28m 52s\n",
      "600:\tlearn: 0.6786947\ttest: 0.6867109\tbest: 0.6867109 (600)\ttotal: 35m 5s\tremaining: 23m 17s\n",
      "700:\tlearn: 0.6816437\ttest: 0.6879609\tbest: 0.6879609 (700)\ttotal: 41m 17s\tremaining: 17m 36s\n",
      "800:\tlearn: 0.6846443\ttest: 0.6891047\tbest: 0.6891849 (794)\ttotal: 47m 25s\tremaining: 11m 46s\n",
      "900:\tlearn: 0.6874353\ttest: 0.6901514\tbest: 0.6902475 (896)\ttotal: 53m 34s\tremaining: 5m 53s\n",
      "999:\tlearn: 0.6904550\ttest: 0.6911827\tbest: 0.6911827 (999)\ttotal: 59m 52s\tremaining: 0us\n",
      "\n",
      "bestTest = 0.691182732\n",
      "bestIteration = 999\n",
      "\n"
     ]
    },
    {
     "name": "stderr",
     "output_type": "stream",
     "text": [
      "\u001b[32m[I 2022-01-27 16:06:59,437]\u001b[0m Trial 1 finished with value: 0.6911827320017031 and parameters: {'learning_rate': 0.014688411186605884, 'objective': 'CrossEntropy', 'colsample_bylevel': 0.24578659346044443, 'depth': 10, 'boosting_type': 'Plain', 'bootstrap_type': 'Bernoulli', 'subsample': 0.5648520681926749}. Best is trial 1 with value: 0.6911827320017031.\u001b[0m\n"
     ]
    },
    {
     "name": "stdout",
     "output_type": "stream",
     "text": [
      "0:\tlearn: 0.6003132\ttest: 0.5964669\tbest: 0.5964669 (0)\ttotal: 1.5s\tremaining: 24m 55s\n",
      "100:\tlearn: 0.6443802\ttest: 0.6665567\tbest: 0.6665567 (100)\ttotal: 3m 7s\tremaining: 27m 45s\n",
      "200:\tlearn: 0.6513106\ttest: 0.6744742\tbest: 0.6744991 (197)\ttotal: 5m 56s\tremaining: 23m 37s\n",
      "300:\tlearn: 0.6536372\ttest: 0.6753302\tbest: 0.6754212 (258)\ttotal: 8m 21s\tremaining: 19m 25s\n",
      "400:\tlearn: 0.6552231\ttest: 0.6766924\tbest: 0.6767863 (398)\ttotal: 11m\tremaining: 16m 26s\n",
      "500:\tlearn: 0.6564574\ttest: 0.6774746\tbest: 0.6774746 (500)\ttotal: 13m 48s\tremaining: 13m 45s\n",
      "600:\tlearn: 0.6573804\ttest: 0.6781494\tbest: 0.6784194 (565)\ttotal: 16m 38s\tremaining: 11m 2s\n",
      "700:\tlearn: 0.6582628\ttest: 0.6784424\tbest: 0.6787862 (650)\ttotal: 19m 30s\tremaining: 8m 19s\n",
      "800:\tlearn: 0.6586992\ttest: 0.6788745\tbest: 0.6789241 (782)\ttotal: 22m 22s\tremaining: 5m 33s\n",
      "900:\tlearn: 0.6590323\ttest: 0.6790089\tbest: 0.6791776 (893)\ttotal: 25m 11s\tremaining: 2m 46s\n",
      "Stopped by overfitting detector  (100 iterations wait)\n",
      "\n",
      "bestTest = 0.6791775855\n",
      "bestIteration = 893\n",
      "\n",
      "Shrink model to first 894 iterations.\n"
     ]
    },
    {
     "name": "stderr",
     "output_type": "stream",
     "text": [
      "\u001b[32m[I 2022-01-27 16:35:04,077]\u001b[0m Trial 2 finished with value: 0.6791775855429382 and parameters: {'learning_rate': 0.03679667116366644, 'objective': 'Logloss', 'colsample_bylevel': 0.6031479468956237, 'depth': 4, 'boosting_type': 'Ordered', 'bootstrap_type': 'MVS'}. Best is trial 1 with value: 0.6911827320017031.\u001b[0m\n"
     ]
    },
    {
     "name": "stdout",
     "output_type": "stream",
     "text": [
      "0:\tlearn: 0.5820987\ttest: 0.5727469\tbest: 0.5727469 (0)\ttotal: 6.59s\tremaining: 1h 49m 44s\n",
      "100:\tlearn: 0.6850719\ttest: 0.6254564\tbest: 0.6256528 (94)\ttotal: 10m 31s\tremaining: 1h 33m 43s\n",
      "200:\tlearn: 0.7343812\ttest: 0.6311270\tbest: 0.6317819 (182)\ttotal: 21m 31s\tremaining: 1h 25m 32s\n",
      "300:\tlearn: 0.7750993\ttest: 0.6314046\tbest: 0.6318927 (269)\ttotal: 34m 27s\tremaining: 1h 20m\n",
      "400:\tlearn: 0.8071744\ttest: 0.6337974\tbest: 0.6339236 (399)\ttotal: 49m 8s\tremaining: 1h 13m 24s\n",
      "Stopped by overfitting detector  (100 iterations wait)\n",
      "\n",
      "bestTest = 0.6339235716\n",
      "bestIteration = 399\n",
      "\n",
      "Shrink model to first 400 iterations.\n"
     ]
    },
    {
     "name": "stderr",
     "output_type": "stream",
     "text": [
      "\u001b[32m[I 2022-01-27 17:39:10,095]\u001b[0m Trial 3 finished with value: 0.6339235715527062 and parameters: {'learning_rate': 0.09752108587642991, 'objective': 'Logloss', 'colsample_bylevel': 0.5732370671182497, 'depth': 11, 'boosting_type': 'Plain', 'bootstrap_type': 'Bayesian', 'bagging_temperature': 15.462879281827357}. Best is trial 1 with value: 0.6911827320017031.\u001b[0m\n"
     ]
    },
    {
     "name": "stdout",
     "output_type": "stream",
     "text": [
      "0:\tlearn: 0.6187690\ttest: 0.6199395\tbest: 0.6199395 (0)\ttotal: 2.59s\tremaining: 43m 11s\n",
      "100:\tlearn: 0.6681243\ttest: 0.6793589\tbest: 0.6793589 (100)\ttotal: 6m 41s\tremaining: 59m 33s\n",
      "200:\tlearn: 0.6814408\ttest: 0.6858235\tbest: 0.6858235 (200)\ttotal: 13m 31s\tremaining: 53m 43s\n",
      "300:\tlearn: 0.6938861\ttest: 0.6895850\tbest: 0.6897356 (297)\ttotal: 20m 44s\tremaining: 48m 9s\n",
      "400:\tlearn: 0.7051247\ttest: 0.6907496\tbest: 0.6908902 (379)\ttotal: 28m 31s\tremaining: 42m 36s\n",
      "500:\tlearn: 0.7156661\ttest: 0.6914175\tbest: 0.6914175 (500)\ttotal: 36m 28s\tremaining: 36m 19s\n",
      "600:\tlearn: 0.7246995\ttest: 0.6918458\tbest: 0.6921067 (559)\ttotal: 45m 20s\tremaining: 30m 6s\n",
      "Stopped by overfitting detector  (100 iterations wait)\n",
      "\n",
      "bestTest = 0.6921067068\n",
      "bestIteration = 559\n",
      "\n",
      "Shrink model to first 560 iterations.\n"
     ]
    },
    {
     "name": "stderr",
     "output_type": "stream",
     "text": [
      "\u001b[32m[I 2022-01-27 18:29:59,134]\u001b[0m Trial 4 finished with value: 0.6921067068351512 and parameters: {'learning_rate': 0.059482101891859186, 'objective': 'Logloss', 'colsample_bylevel': 0.3658887011221209, 'depth': 10, 'boosting_type': 'Plain', 'bootstrap_type': 'Bernoulli', 'subsample': 0.39793944042783425}. Best is trial 4 with value: 0.6921067068351512.\u001b[0m\n"
     ]
    }
   ],
   "source": [
    "study = optuna.create_study(direction = \"maximize\", sampler = TPESampler(seed=50))\n",
    "study.optimize(objective, n_trials = 10)"
   ]
  },
  {
   "cell_type": "markdown",
   "id": "80b98c35",
   "metadata": {},
   "source": [
    "# Modeling(KFold)"
   ]
  },
  {
   "cell_type": "markdown",
   "id": "d6c58635",
   "metadata": {},
   "source": [
    "값이 2가지 이상인 칼럼을 cat_features로 지정"
   ]
  },
  {
   "cell_type": "code",
   "execution_count": null,
   "id": "ff7b45de",
   "metadata": {
    "scrolled": false
   },
   "outputs": [],
   "source": [
    "#캣부스트(CatBoost)\n",
    "cat_features=x_train.columns[x_train.nunique()>2].to_list()\n",
    "is_holdout=False\n",
    "\n",
    "cv=StratifiedKFold(\n",
    "    n_splits=10,\n",
    "    shuffle=True,\n",
    "    random_state=50\n",
    ")\n",
    "scores=[]\n",
    "models=[]\n",
    "\n",
    "for train_idx,val_idx in cv.split(x_train,y_train):\n",
    "    print('='*60)\n",
    "    preds=[]\n",
    "    \n",
    "    model=CatBoostClassifier(\n",
    "        **study.best_params,\n",
    "        eval_metric='F1',\n",
    "    )\n",
    "    \n",
    "    model.fit(x_train.iloc[train_idx],y_train[train_idx],\n",
    "              eval_set=[(x_train.iloc[val_idx],y_train[val_idx])],\n",
    "              early_stopping_rounds=100,\n",
    "              cat_features=cat_features,\n",
    "              verbose=100)\n",
    "    \n",
    "    models.append(model)\n",
    "    scores.append(model.get_best_score()['validation']['F1'])\n",
    "    if is_holdout:\n",
    "        break\n",
    "\n",
    "print(scores)\n",
    "print(np.mean(scores))"
   ]
  },
  {
   "cell_type": "markdown",
   "id": "53364c35",
   "metadata": {},
   "source": [
    "## 최적 threshold 탐색"
   ]
  },
  {
   "cell_type": "code",
   "execution_count": null,
   "id": "cce19042",
   "metadata": {},
   "outputs": [],
   "source": [
    "N=61"
   ]
  },
  {
   "cell_type": "markdown",
   "id": "013ae536",
   "metadata": {},
   "source": [
    "threshold가 0.3~0.4일때 f1 스코어가 가장 높게 나와서 그 사이 값 중 리더보드에 가장 높게 나오는 값을 선정"
   ]
  },
  {
   "cell_type": "code",
   "execution_count": null,
   "id": "cb69e3d0",
   "metadata": {},
   "outputs": [],
   "source": [
    "thresholds = 0.3475\n",
    "scores_2=[]\n",
    "y_graph=[]\n",
    "for threshold in thresholds:\n",
    "    print(f'threshold:{threshold}')\n",
    "    for i,(train_idx,val_idx) in enumerate(cv.split(x_train,y_train)):\n",
    "        pred=models[i].predict_proba(x_train.iloc[val_idx])[:,1]\n",
    "        pred=np.where(pred>=threshold,1,0)\n",
    "        score=f1_score(y_train[val_idx],pred)\n",
    "        scores_2.append(score)\n",
    "    y_graph.append(scores_2)\n",
    "    scores_2=[]\n",
    "print(y_graph)"
   ]
  },
  {
   "cell_type": "markdown",
   "id": "5d44af56",
   "metadata": {},
   "source": [
    "## 모델 저장"
   ]
  },
  {
   "cell_type": "code",
   "execution_count": null,
   "id": "331b0b0d",
   "metadata": {},
   "outputs": [],
   "source": [
    "for i in range(1,11):\n",
    "    models[i-1].save_model(f'cat_boost_model_{i}')"
   ]
  },
  {
   "cell_type": "markdown",
   "id": "bccfe7c0",
   "metadata": {},
   "source": [
    "## 모델 불러오기"
   ]
  },
  {
   "cell_type": "code",
   "execution_count": null,
   "id": "e384bc6f",
   "metadata": {},
   "outputs": [],
   "source": [
    "l_models=[CatBoostClassifier().load_model(f'cat_boost_model_{i}') for i in range(1,11)]"
   ]
  },
  {
   "cell_type": "markdown",
   "id": "6bd5c937",
   "metadata": {},
   "source": [
    "## 최적 threshold를 이용하여 test set 예측"
   ]
  },
  {
   "cell_type": "code",
   "execution_count": null,
   "id": "e5285935",
   "metadata": {},
   "outputs": [],
   "source": [
    "threshold=0.38\n",
    "pred_list=[]\n",
    "scores_2=[]\n",
    "\n",
    "for i,(train_idx,val_idx) in enumerate(cv.split(x_train,y_train)):\n",
    "    pred=l_models[i].predict_proba(x_train.iloc[val_idx])[:,1]\n",
    "    pred=np.where(pred>=threshold,1,0)\n",
    "    score=f1_score(y_train[val_idx],pred)\n",
    "    scores_2.append(score)\n",
    "    pred=l_models[i].predict_proba(test_set)[:,1]\n",
    "    pred_list.append(pred)\n",
    "\n",
    "print(scores_2)\n",
    "print(np.mean(scores_2))"
   ]
  },
  {
   "cell_type": "markdown",
   "id": "fb4e9cf8",
   "metadata": {},
   "source": [
    "# Submission"
   ]
  },
  {
   "cell_type": "markdown",
   "id": "7d307fcd",
   "metadata": {},
   "source": [
    "## 산술평균 앙상블"
   ]
  },
  {
   "cell_type": "code",
   "execution_count": null,
   "id": "be1faf97",
   "metadata": {},
   "outputs": [],
   "source": [
    "preds=np.mean(pred_list,axis=0)\n",
    "preds=np.where(preds>=threshold,1,0)"
   ]
  },
  {
   "cell_type": "markdown",
   "id": "25ea3a96",
   "metadata": {},
   "source": [
    "## 제출"
   ]
  },
  {
   "cell_type": "code",
   "execution_count": null,
   "id": "9b66a86d",
   "metadata": {},
   "outputs": [],
   "source": [
    "submission=pd.read_csv('sample_submission.csv')\n",
    "submission['target']=preds.round()\n",
    "submission.to_csv('D:/Users/user/Desktop/submission.csv',index=False)"
   ]
  }
 ],
 "metadata": {
  "kernelspec": {
   "display_name": "Python 3",
   "language": "python",
   "name": "python3"
  },
  "language_info": {
   "codemirror_mode": {
    "name": "ipython",
    "version": 3
   },
   "file_extension": ".py",
   "mimetype": "text/x-python",
   "name": "python",
   "nbconvert_exporter": "python",
   "pygments_lexer": "ipython3",
   "version": "3.9.7"
  },
  "toc": {
   "base_numbering": 1,
   "nav_menu": {},
   "number_sections": true,
   "sideBar": true,
   "skip_h1_title": false,
   "title_cell": "Table of Contents",
   "title_sidebar": "Contents",
   "toc_cell": false,
   "toc_position": {},
   "toc_section_display": true,
   "toc_window_display": true
  },
  "varInspector": {
   "cols": {
    "lenName": 16,
    "lenType": 16,
    "lenVar": 40
   },
   "kernels_config": {
    "python": {
     "delete_cmd_postfix": "",
     "delete_cmd_prefix": "del ",
     "library": "var_list.py",
     "varRefreshCmd": "print(var_dic_list())"
    },
    "r": {
     "delete_cmd_postfix": ") ",
     "delete_cmd_prefix": "rm(",
     "library": "var_list.r",
     "varRefreshCmd": "cat(var_dic_list()) "
    }
   },
   "types_to_exclude": [
    "module",
    "function",
    "builtin_function_or_method",
    "instance",
    "_Feature"
   ],
   "window_display": false
  }
 },
 "nbformat": 4,
 "nbformat_minor": 5
}

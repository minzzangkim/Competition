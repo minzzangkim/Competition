{
 "cells": [
  {
   "cell_type": "code",
   "execution_count": null,
   "metadata": {},
   "outputs": [],
   "source": [
    "from catboost import CatBoostClassifier\n",
    "from sklearn.model_selection import train_test_split\n",
    "import numpy as np\n",
    "import pandas as pd\n",
    "import optuna\n",
    "from optuna.samplers import TPESampler\n",
    "from sklearn.model_selection import StratifiedKFold , KFold\n",
    "from sklearn.metrics import f1_score \n",
    "import warnings"
   ]
  },
  {
   "cell_type": "code",
   "execution_count": null,
   "metadata": {},
   "outputs": [],
   "source": [
    "warnings.filterwarnings(action = 'ignore')"
   ]
  },
  {
   "cell_type": "code",
   "execution_count": null,
   "metadata": {},
   "outputs": [],
   "source": [
    "# 데이터 로드\n",
    "train = pd.read_csv('C:/Users/김민성\\Desktop/PythonWorkspace/잡케어추천알고리즘공모전/train.csv', encoding='cp949')\n",
    "test = pd.read_csv('C:/Users/김민성\\Desktop/PythonWorkspace/잡케어추천알고리즘공모전/test.csv', encoding='cp949')\n",
    "ss= pd.read_csv('C:/Users/김민성/Desktop/공모전/잡케어 추천 알고리즘 경진대회/Jobcare_data/sample_submission.csv', encoding='utf-8')"
   ]
  },
  {
   "cell_type": "code",
   "execution_count": null,
   "metadata": {},
   "outputs": [],
   "source": [
    "test.drop(\"id\", axis=1., inplace=True)"
   ]
  },
  {
   "cell_type": "markdown",
   "metadata": {},
   "source": [
    "## X, Y"
   ]
  },
  {
   "cell_type": "code",
   "execution_count": null,
   "metadata": {},
   "outputs": [],
   "source": [
    "X = train.drop([\"target\",\"id\"], axis=1)\n",
    "y = train[\"target\"]"
   ]
  },
  {
   "cell_type": "code",
   "execution_count": null,
   "metadata": {},
   "outputs": [],
   "source": [
    "X_train, X_val, y_train, y_val = train_test_split(X,y,test_size=0.2)"
   ]
  },
  {
   "cell_type": "code",
   "execution_count": null,
   "metadata": {},
   "outputs": [],
   "source": [
    "cat_cols = X_train.columns[X_train.nunique() > 2].tolist()"
   ]
  },
  {
   "cell_type": "markdown",
   "metadata": {},
   "source": [
    "## optuna"
   ]
  },
  {
   "cell_type": "code",
   "execution_count": null,
   "metadata": {},
   "outputs": [],
   "source": [
    "# def objective(trial):\n",
    "#     # Parameters\n",
    "#     param = {\n",
    "#         \"learning_rate\": trial.suggest_float(\"learning_rate\", 0.01, 0.3),\n",
    "#         \"objective\": trial.suggest_categorical(\"objective\", [\"Logloss\", \"CrossEntropy\"]),\n",
    "#         \"colsample_bylevel\": trial.suggest_float(\"colsample_bylevel\", 0.1, 1.0),\n",
    "#         \"depth\": trial.suggest_int(\"depth\", 4, 16),\n",
    "#         \"boosting_type\": trial.suggest_categorical(\"boosting_type\", [\"Ordered\", \"Plain\"]),\n",
    "#         \"bootstrap_type\": trial.suggest_categorical(\n",
    "#             \"bootstrap_type\", [\"Bayesian\", \"Bernoulli\", \"MVS\"]\n",
    "#         ),\n",
    "#         \"used_ram_limit\": \"3gb\",\n",
    "     \n",
    "#     }\n",
    "\n",
    "#     if param[\"bootstrap_type\"] == \"Bayesian\":\n",
    "#         param[\"bagging_temperature\"] = trial.suggest_float(\"bagging_temperature\", 0, 50)\n",
    "#     elif param[\"bootstrap_type\"] == \"Bernoulli\":\n",
    "#         param[\"subsample\"] = trial.suggest_float(\"subsample\", 0.1, 1)\n",
    "        \n",
    "#     #Learning\n",
    "    \n",
    "#     cat = CatBoostClassifier(**param, eval_metric=\"F1\", one_hot_max_size=3)\n",
    "#     cat.fit(X_train, y_train,\n",
    "            \n",
    "#             eval_set=[(X_train, y_train), (X_val,y_val)],\n",
    "#             early_stopping_rounds=100,cat_features=cat_cols,\n",
    "#             verbose=100)\n",
    "#     cat_pred = cat.predict(X_val)\n",
    "#     score = f1_score(y_val, cat_pred)\n",
    "        \n",
    "#     return score"
   ]
  },
  {
   "cell_type": "code",
   "execution_count": null,
   "metadata": {},
   "outputs": [],
   "source": [
    "def objective(trial):\n",
    "    # Parameters\n",
    "    param = {\n",
    "        \"learning_rate\": trial.suggest_float(\"learning_rate\", 0.01, 0.3),\n",
    "        \"objective\": trial.suggest_categorical(\"objective\", [\"Logloss\", \"CrossEntropy\"]),\n",
    "        \"colsample_bylevel\": trial.suggest_float(\"colsample_bylevel\", 0.1, 1.0),\n",
    "        \"depth\": trial.suggest_int(\"depth\", 4, 16),\n",
    "        \"boosting_type\": trial.suggest_categorical(\"boosting_type\", [\"Ordered\", \"Plain\"]),\n",
    "        \"bootstrap_type\": trial.suggest_categorical(\n",
    "            \"bootstrap_type\", [\"Bayesian\", \"Bernoulli\", \"MVS\"]\n",
    "        ),\n",
    "        \"used_ram_limit\": \"3gb\",\n",
    "     \n",
    "    }\n",
    "\n",
    "    if param[\"bootstrap_type\"] == \"Bayesian\":\n",
    "        param[\"bagging_temperature\"] = trial.suggest_float(\"bagging_temperature\", 0, 50)\n",
    "    elif param[\"bootstrap_type\"] == \"Bernoulli\":\n",
    "        param[\"subsample\"] = trial.suggest_float(\"subsample\", 0.1, 1)\n",
    "        \n",
    "    #Learning\n",
    "    cat = CatBoostClassifier(**param, eval_metric=\"F1\", one_hot_max_size=3)\n",
    "    cat.fit(X_train, y_train,\n",
    "            \n",
    "            eval_set=[(X_train, y_train), (X_val,y_val)],\n",
    "            early_stopping_rounds=100,cat_features=cat_cols,\n",
    "            verbose=100)\n",
    "    cat_pred = cat.predict(X_val)\n",
    "    score = f1_score(y_val, cat_pred)\n",
    "        \n",
    "    return score"
   ]
  },
  {
   "cell_type": "code",
   "execution_count": null,
   "metadata": {},
   "outputs": [],
   "source": [
    "study = optuna.create_study(direction = \"maximize\", sampler = TPESampler(seed=int(42)))\n",
    "study.optimize(objective, n_trials = 10)"
   ]
  },
  {
   "cell_type": "code",
   "execution_count": null,
   "metadata": {},
   "outputs": [],
   "source": [
    "# 하이퍼 파라미터 중요도\n",
    "optuna.visualization.plot_param_importances(study)"
   ]
  },
  {
   "cell_type": "markdown",
   "metadata": {},
   "source": [
    "## K-Fold"
   ]
  },
  {
   "cell_type": "code",
   "execution_count": null,
   "metadata": {},
   "outputs": [],
   "source": [
    "X_train = X_train.sort_index(ascending=True)"
   ]
  },
  {
   "cell_type": "code",
   "execution_count": null,
   "metadata": {},
   "outputs": [],
   "source": [
    "X_train1 = X_train.reset_index(drop=True)"
   ]
  },
  {
   "cell_type": "code",
   "execution_count": null,
   "metadata": {},
   "outputs": [],
   "source": [
    "y_train = y_train.sort_index(ascending=True)"
   ]
  },
  {
   "cell_type": "code",
   "execution_count": null,
   "metadata": {},
   "outputs": [],
   "source": [
    "y_train1 = y_train.reset_index(drop=True)"
   ]
  },
  {
   "cell_type": "code",
   "execution_count": null,
   "metadata": {},
   "outputs": [],
   "source": [
    "# Optuna 버젼\n",
    "is_holdout=False\n",
    "cv=KFold(n_splits=10,\n",
    "        shuffle=True)\n",
    "\n",
    "scores=[]\n",
    "models=[]\n",
    "for train_idx,val_idx in cv.split(X_train1):\n",
    "    print('='*60)\n",
    "    preds=[]\n",
    "    \n",
    "    model=CatBoostClassifier(**study.best_params, eval_metric='F1')\n",
    "    \n",
    "    model.fit(X_train1.iloc[train_idx],y_train1[train_idx],\n",
    "              eval_set=[(X_train1.iloc[val_idx],y_train1[val_idx])],\n",
    "              early_stopping_rounds=100,\n",
    "              verbose=1)\n",
    "    \n",
    "    models.append(model)\n",
    "    scores.append(model.get_best_score()['validation']['F1'])\n",
    "    if is_holdout:\n",
    "        break\n",
    "\n",
    "print(scores)\n",
    "print(np.mean(scores))"
   ]
  },
  {
   "cell_type": "code",
   "execution_count": null,
   "metadata": {},
   "outputs": [],
   "source": [
    "threshold = 0.3475\n",
    "pred_list=[]\n",
    "scores_2=[]\n",
    "for i,(train_idx,val_idx) in enumerate(cv.split(X_train1)):\n",
    "    pred=models[i].predict_proba(X_train1.iloc[val_idx])[:,1]\n",
    "    pred=np.where(pred>=threshold,1,0)\n",
    "    score=f1_score(y_train1[val_idx],pred)\n",
    "    scores_2.append(score)\n",
    "    pred=models[i].predict_proba(test)[:,1]\n",
    "    pred_list.append(pred)\n",
    "print(scores_2)\n",
    "print(np.mean(scores_2))"
   ]
  },
  {
   "cell_type": "code",
   "execution_count": null,
   "metadata": {},
   "outputs": [],
   "source": [
    "preds=np.mean(pred_list,axis=0) # catboost\n",
    "preds=np.where(preds>=threshold,1,0) # catboost"
   ]
  },
  {
   "cell_type": "code",
   "execution_count": null,
   "metadata": {},
   "outputs": [],
   "source": [
    "ss['target']=preds.round()\n",
    "ss.to_csv('submission2.csv',index=False)"
   ]
  },
  {
   "cell_type": "code",
   "execution_count": null,
   "metadata": {},
   "outputs": [],
   "source": [
    "ss"
   ]
  }
 ],
 "metadata": {
  "interpreter": {
   "hash": "97ae724bfa85b9b34df7982b8bb8c7216f435b92902d749e4263f71162bea840"
  },
  "kernelspec": {
   "display_name": "Python 3.9.7 64-bit ('base': conda)",
   "language": "python",
   "name": "python3"
  },
  "language_info": {
   "codemirror_mode": {
    "name": "ipython",
    "version": 3
   },
   "file_extension": ".py",
   "mimetype": "text/x-python",
   "name": "python",
   "nbconvert_exporter": "python",
   "pygments_lexer": "ipython3",
   "version": "3.9.7"
  },
  "orig_nbformat": 4
 },
 "nbformat": 4,
 "nbformat_minor": 2
}

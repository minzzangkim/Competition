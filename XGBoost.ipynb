{
 "cells": [
  {
   "cell_type": "code",
   "execution_count": 1,
   "metadata": {},
   "outputs": [],
   "source": [
    "import pandas as pd\n",
    "import numpy as np"
   ]
  },
  {
   "cell_type": "code",
   "execution_count": 2,
   "metadata": {},
   "outputs": [],
   "source": [
    "import xgboost as xgb ## XGBoost 불러오기\n",
    "from xgboost import plot_importance ## Feature Importance를 불러오기 위함\n",
    "import pandas as pd\n",
    "import numpy as np\n",
    "from sklearn.datasets import load_breast_cancer\n",
    "from sklearn.model_selection import train_test_split\n",
    "from sklearn.metrics import confusion_matrix, accuracy_score, precision_score, recall_score\n",
    "from sklearn.metrics import confusion_matrix, f1_score, roc_auc_score\n",
    "from xgboost import XGBClassifier\n",
    "from xgboost import plot_importance \n",
    "import warnings\n",
    "warnings.filterwarnings('ignore')\n",
    "from sklearn.metrics import classification_report, confusion_matrix"
   ]
  },
  {
   "cell_type": "code",
   "execution_count": 3,
   "metadata": {},
   "outputs": [],
   "source": [
    "df = pd.read_csv('C:/Users/doong/Desktop/PythonWorkspace/창종설/boho_final(클러스터링_final).csv')"
   ]
  },
  {
   "cell_type": "code",
   "execution_count": 4,
   "metadata": {},
   "outputs": [
    {
     "data": {
      "text/plain": [
       "0    35584\n",
       "2      644\n",
       "1       12\n",
       "Name: cluster_label, dtype: int64"
      ]
     },
     "execution_count": 4,
     "metadata": {},
     "output_type": "execute_result"
    }
   ],
   "source": [
    "df[\"cluster_label\"].value_counts()"
   ]
  },
  {
   "cell_type": "code",
   "execution_count": 5,
   "metadata": {},
   "outputs": [],
   "source": [
    "df.drop(\"Unnamed: 0\",axis=1,inplace=True)"
   ]
  },
  {
   "cell_type": "code",
   "execution_count": 6,
   "metadata": {},
   "outputs": [],
   "source": [
    "features = df.columns\n",
    "\n",
    "X = df[features].drop([\"시설명\",\"시간대구분\",\"주소\",'시설종류','구역지정수','CCTV 수', '도로표지판 수', '과속방지턱 수',\n",
    "                               \"위도\",\"경도\",'보호구역도로폭',\"tmp\",\"도로명\",\"행정동\",\"시군구명\",\"총생활인구수\",\"사망자수\",\n",
    "                              \"중상자수\",\"경상자수\",\"부상신고자수\",'가해운전자 차종','피해운전자 차종','피해운전자 연령',\n",
    "                               \"사고 수\",\"통행량 도로명\",\"통행량\",'속도','면적','인구밀도',\"위험도\",\"cluster_label\",\n",
    "                              \"위험도군집\"], axis=1)\n",
    "y = df[\"cluster_label\"] \n",
    "X = pd.get_dummies(X)"
   ]
  },
  {
   "cell_type": "code",
   "execution_count": 7,
   "metadata": {},
   "outputs": [],
   "source": [
    "X_train, X_test, y_train, y_test = train_test_split(X, y, test_size=0.2, random_state=240)"
   ]
  },
  {
   "cell_type": "code",
   "execution_count": 8,
   "metadata": {},
   "outputs": [],
   "source": [
    "from imblearn.over_sampling import SMOTE\n",
    "#Oversampling the data\n",
    "smote = SMOTE(random_state = 101)\n",
    "X_train, y_train = smote.fit_resample(X_train, y_train)"
   ]
  },
  {
   "cell_type": "code",
   "execution_count": 9,
   "metadata": {},
   "outputs": [],
   "source": [
    "# from imblearn.over_sampling import ADASYN\n",
    "# #Oversampling the data\n",
    "# adasyn = ADASYN(random_state = 101)\n",
    "# X_train, y_train = adasyn.fit_resample(X_train, y_train)"
   ]
  },
  {
   "cell_type": "code",
   "execution_count": 10,
   "metadata": {},
   "outputs": [
    {
     "data": {
      "text/plain": [
       "0    24913\n",
       "1    24913\n",
       "2    24913\n",
       "Name: cluster_label, dtype: int64"
      ]
     },
     "execution_count": 10,
     "metadata": {},
     "output_type": "execute_result"
    }
   ],
   "source": [
    "y_train.value_counts()"
   ]
  },
  {
   "cell_type": "code",
   "execution_count": 11,
   "metadata": {},
   "outputs": [
    {
     "data": {
      "text/plain": [
       "Index(['CCTV설치여부', '일출/일몰', '등하교시간', '점심시간', '가해차종엔진125cc이상', '피해자어린이유무',\n",
       "       '피해자교통수단탑승유무', '보호구역초등학교여부', '활동시간', '1차선이하', '표지판8개이하', '방지턱43개이하',\n",
       "       '구역지정2개이하', 'CCTV3개이하', '피해자초고령여부', '가해차종4륜유무', '피해자연령38세이하',\n",
       "       '피해차량승합차량여부', '일방통행여부', '방지턱16개이하', 'CCTV10개이하', '초등학교셔틀버스운영여부'],\n",
       "      dtype='object')"
      ]
     },
     "execution_count": 11,
     "metadata": {},
     "output_type": "execute_result"
    }
   ],
   "source": [
    "X.columns"
   ]
  },
  {
   "cell_type": "code",
   "execution_count": 12,
   "metadata": {},
   "outputs": [
    {
     "name": "stdout",
     "output_type": "stream",
     "text": [
      "[21:27:47] WARNING: D:\\bld\\xgboost-split_1634712635879\\work\\src\\learner.cc:1115: Starting in XGBoost 1.3.0, the default evaluation metric used with the objective 'multi:softprob' was changed from 'merror' to 'mlogloss'. Explicitly set eval_metric if you'd like to restore the old behavior.\n"
     ]
    },
    {
     "data": {
      "text/plain": [
       "XGBClassifier(base_score=0.5, booster='gbtree', colsample_bylevel=1,\n",
       "              colsample_bynode=1, colsample_bytree=1, enable_categorical=False,\n",
       "              gamma=0, gpu_id=-1, importance_type=None,\n",
       "              interaction_constraints='', learning_rate=0.300000012,\n",
       "              max_delta_step=0, max_depth=6, min_child_weight=1, missing=nan,\n",
       "              monotone_constraints='()', n_estimators=100, n_jobs=4,\n",
       "              num_parallel_tree=1, objective='multi:softprob', predictor='auto',\n",
       "              random_state=0, reg_alpha=0, reg_lambda=1, scale_pos_weight=None,\n",
       "              subsample=1, tree_method='exact', validate_parameters=1,\n",
       "              verbosity=None)"
      ]
     },
     "execution_count": 12,
     "metadata": {},
     "output_type": "execute_result"
    }
   ],
   "source": [
    "model = XGBClassifier()\n",
    "model.fit(X=X_train,y = y_train)\n",
    "model"
   ]
  },
  {
   "cell_type": "code",
   "execution_count": 13,
   "metadata": {},
   "outputs": [
    {
     "data": {
      "text/plain": [
       "0.9817880794701986"
      ]
     },
     "execution_count": 13,
     "metadata": {},
     "output_type": "execute_result"
    }
   ],
   "source": [
    "fscore = model.get_booster().get_fscore()\n",
    "y_pred = model.predict(X_test) # 예측치\n",
    "y_true = y_test \n",
    "accuracy_score(y_true, y_pred)"
   ]
  },
  {
   "cell_type": "code",
   "execution_count": 14,
   "metadata": {},
   "outputs": [
    {
     "data": {
      "text/plain": [
       "<AxesSubplot:title={'center':'Feature importance'}, xlabel='F score', ylabel='Features'>"
      ]
     },
     "execution_count": 14,
     "metadata": {},
     "output_type": "execute_result"
    },
    {
     "data": {
      "image/png": "[encoded data removed]",
      "text/plain": [
       "<Figure size 432x288 with 1 Axes>"
      ]
     },
     "metadata": {
      "needs_background": "light"
     },
     "output_type": "display_data"
    }
   ],
   "source": [
    "import matplotlib.pyplot as plt\n",
    "from matplotlib import font_manager, rc\n",
    "font_name = font_manager.FontProperties(fname=\"c:/Windows/Fonts/malgun.ttf\").get_name()\n",
    "rc('font', family=font_name)\n",
    "import seaborn as sns\n",
    "%matplotlib inline\n",
    "\n",
    "plot_importance(model)"
   ]
  },
  {
   "cell_type": "code",
   "execution_count": 15,
   "metadata": {},
   "outputs": [
    {
     "name": "stdout",
     "output_type": "stream",
     "text": [
      "정확도 : 0.9817880794701986\n"
     ]
    }
   ],
   "source": [
    "y_pred = model.predict(X_test) # 예측치\n",
    "y_true = y_test # 정답\n",
    "\n",
    "print(\"정확도 :\",accuracy_score(y_true, y_pred))"
   ]
  },
  {
   "cell_type": "code",
   "execution_count": 16,
   "metadata": {},
   "outputs": [
    {
     "name": "stdout",
     "output_type": "stream",
     "text": [
      "[[10512     3   156]\n",
      " [    0     1     3]\n",
      " [   33     3   161]]\n",
      "              precision    recall  f1-score   support\n",
      "\n",
      "           0       1.00      0.99      0.99     10671\n",
      "           1       0.14      0.25      0.18         4\n",
      "           2       0.50      0.82      0.62       197\n",
      "\n",
      "    accuracy                           0.98     10872\n",
      "   macro avg       0.55      0.68      0.60     10872\n",
      "weighted avg       0.99      0.98      0.98     10872\n",
      "\n"
     ]
    }
   ],
   "source": [
    "print(confusion_matrix(y_test, y_pred))\n",
    "print(classification_report(y_test, y_pred))"
   ]
  },
  {
   "cell_type": "code",
   "execution_count": 17,
   "metadata": {},
   "outputs": [
    {
     "data": {
      "image/png": "[encoded data removed]",
      "text/plain": [
       "<Figure size 720x720 with 1 Axes>"
      ]
     },
     "metadata": {
      "needs_background": "light"
     },
     "output_type": "display_data"
    },
    {
     "data": {
      "text/plain": [
       "count    5928.000000\n",
       "mean        0.299946\n",
       "std         0.474418\n",
       "min         0.000000\n",
       "25%         0.140667\n",
       "50%         0.226083\n",
       "75%         0.339756\n",
       "max        16.956347\n",
       "Name: 위험도, dtype: float64"
      ]
     },
     "execution_count": 17,
     "metadata": {},
     "output_type": "execute_result"
    }
   ],
   "source": [
    "input_x=\"CCTV설치여부\"\n",
    "input_y=\"위험도\"\n",
    "\n",
    "plt.figure(figsize=(10,10))\n",
    "sns.scatterplot(data=df[df['cluster_label']==0], x=input_x, y=input_y, ci=None, label='저위험군')\n",
    "sns.scatterplot(data=df[df['cluster_label']==1], x=input_x, y=input_y, ci=None, label='고위험군')\n",
    "sns.scatterplot(data=df[df['cluster_label']==2], x=input_x, y=input_y, ci=None, label='중위험군')\n",
    "#sns.scatterplot(data=boho_final[boho_final['cluster_label']==3], x=input_x, y=input_y, ci=None, label='저위험군')\n",
    "#sns.scatterplot(data=boho_final[boho_final['cluster_label']==4], x=input_x, y=input_y, ci=None, label='저위험군')\n",
    "plt.title(f\"{input_x}에 따른 위험도\", fontdict={'fontsize':15})\n",
    "plt.legend()\n",
    "plt.show()\n",
    "\n",
    "df[df[input_x]==0][\"위험도\"].describe()\n",
    "\n",
    "df[df[input_x]==1][\"위험도\"].describe()"
   ]
  },
  {
   "cell_type": "code",
   "execution_count": 25,
   "metadata": {},
   "outputs": [],
   "source": [
    "df_predict = pd.read_csv('C:/Users/doong/Desktop/PythonWorkspace/창종설/df_new.csv')"
   ]
  },
  {
   "cell_type": "code",
   "execution_count": 26,
   "metadata": {},
   "outputs": [],
   "source": [
    "X_new = df_predict[features].drop([\"시설명\",\"시간대구분\",\"주소\",'시설종류','구역지정수','CCTV 수', '도로표지판 수', '과속방지턱 수',\n",
    "                               \"위도\",\"경도\",'보호구역도로폭',\"tmp\",\"도로명\",\"행정동\",\"시군구명\",\"총생활인구수\",\"사망자수\",\n",
    "                              \"중상자수\",\"경상자수\",\"부상신고자수\",'가해운전자 차종','피해운전자 차종','피해운전자 연령',\n",
    "                               \"사고 수\",\"통행량 도로명\",\"통행량\",'속도','면적','인구밀도',\"위험도\",\"cluster_label\",\n",
    "                              \"위험도군집\"], axis=1)"
   ]
  },
  {
   "cell_type": "code",
   "execution_count": 27,
   "metadata": {},
   "outputs": [],
   "source": [
    "predict = model.predict(X_new)"
   ]
  },
  {
   "cell_type": "code",
   "execution_count": 28,
   "metadata": {},
   "outputs": [],
   "source": [
    "X_new[\"개선 후\"] = 0\n",
    "for i,p in enumerate(predict):\n",
    "    X_new.loc[i,\"개선 후\"] = p"
   ]
  },
  {
   "cell_type": "code",
   "execution_count": 29,
   "metadata": {},
   "outputs": [
    {
     "data": {
      "text/plain": [
       "1    6\n",
       "2    6\n",
       "Name: 개선 후, dtype: int64"
      ]
     },
     "execution_count": 29,
     "metadata": {},
     "output_type": "execute_result"
    }
   ],
   "source": [
    "X_new[\"개선 후\"].value_counts()"
   ]
  }
 ],
 "metadata": {
  "interpreter": {
   "hash": "2db524e06e9f5f4ffedc911c917cb75e12dbc923643829bf417064a77eb14d37"
  },
  "kernelspec": {
   "display_name": "Python 3.8.6 32-bit",
   "language": "python",
   "name": "python3"
  },
  "language_info": {
   "codemirror_mode": {
    "name": "ipython",
    "version": 3
   },
   "file_extension": ".py",
   "mimetype": "text/x-python",
   "name": "python",
   "nbconvert_exporter": "python",
   "pygments_lexer": "ipython3",
   "version": "3.8.8"
  },
  "orig_nbformat": 4
 },
 "nbformat": 4,
 "nbformat_minor": 2
}
